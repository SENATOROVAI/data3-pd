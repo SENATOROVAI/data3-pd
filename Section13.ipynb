{
 "cells": [
  {
   "cell_type": "markdown",
   "metadata": {},
   "source": [
    "# 13 Measuring Text Similarities\n",
    "# 13. 1 Simple Text Comparison\n",
    "\n",
    "Suppose we want to compare 3 simple texts:\n",
    "\n",
    "* `text1`: _She sells seashells by the seashore._\n",
    "* `text2`: _\"Seashells! The seashells are on sale! By the seashore.\"_\n",
    "* `text3`: _Three seashells she sells to John who lives by the lake._\n",
    "\n",
    "Our goal is to determine whether `text1` is more similar to `text2` or to `text3`. We'll start by assigning the texts to 3 variables.\n",
    "\n",
    "**Listing 13. 1. Assigning texts to variables**"
   ]
  },
  {
   "cell_type": "code",
   "execution_count": 2,
   "metadata": {},
   "outputs": [],
   "source": [
    "text1 = 'She sells seashells by the seashore.'\n",
    "text2 = '\"Seashells! The seashells are on sale! By the seashore.\"'\n",
    "text3 = 'She sells 3 seashells to John, who lives by the lake.'"
   ]
  },
  {
   "cell_type": "markdown",
   "metadata": {},
   "source": [
    "Now, we need to quantify the differences between texts. One basic approach is to simply count the words shared between each pair of texts. The approach requires us to split each text into a list of words.\n",
    "\n",
    "**Listing 13. 2. Splitting texts into words**"
   ]
  },
  {
   "cell_type": "code",
   "execution_count": 3,
   "metadata": {},
   "outputs": [
    {
     "name": "stdout",
     "output_type": "stream",
     "text": [
      "Words in text 1\n",
      "['She', 'sells', 'seashells', 'by', 'the', 'seashore.']\n",
      "\n",
      "Words in text 2\n",
      "['\"Seashells!', 'The', 'seashells', 'are', 'on', 'sale!', 'By', 'the', 'seashore.\"']\n",
      "\n",
      "Words in text 3\n",
      "['She', 'sells', '3', 'seashells', 'to', 'John,', 'who', 'lives', 'by', 'the', 'lake.']\n",
      "\n"
     ]
    }
   ],
   "source": [
    "words_lists = [text.split() for text in [text1, text2, text3]]\n",
    "words1, words2, words3 = words_lists\n",
    "\n",
    "for i, words in enumerate(words_lists, 1):\n",
    "    print(f\"Words in text {i}\")\n",
    "    print(f\"{words}\\n\")"
   ]
  },
  {
   "cell_type": "markdown",
   "metadata": {},
   "source": [
    "Our texts have been split into words. However, an accurate word comparison is not immediately possible, due to present inconsistencies. We can eliminate the capitalization inconsistency by calling the built-in lower string-method. The method converts a string to lowercase. Furthermore, we can strip-out puctutation from a word by calling `word.replace('punctuation', ' ')`, where `punctuation` is set to `'!'` or `'\"'`.\n",
    "\n",
    "**Listing 13. 3. Removing case-sensitivity and punctuation**"
   ]
  },
  {
   "cell_type": "code",
   "execution_count": 4,
   "metadata": {},
   "outputs": [
    {
     "name": "stdout",
     "output_type": "stream",
     "text": [
      "Words in text 1\n",
      "['she', 'sells', 'seashells', 'by', 'the', 'seashore']\n",
      "\n",
      "Words in text 2\n",
      "['seashells', 'the', 'seashells', 'are', 'on', 'sale', 'by', 'the', 'seashore']\n",
      "\n",
      "Words in text 3\n",
      "['she', 'sells', '3', 'seashells', 'to', 'john', 'who', 'lives', 'by', 'the', 'lake']\n",
      "\n"
     ]
    }
   ],
   "source": [
    "def simplify_text(text):\n",
    "    for punctuation in ['.', ',', '!', '?', '\"']:\n",
    "        text = text.replace(punctuation, '')\n",
    "    \n",
    "    return text.lower()\n",
    "\n",
    "for i, words in enumerate(words_lists, 1):\n",
    "    for j, word in enumerate(words):\n",
    "        words[j] = simplify_text(word)\n",
    "        \n",
    "    print(f\"Words in text {i}\")\n",
    "    print(f\"{words}\\n\") "
   ]
  },
  {
   "cell_type": "markdown",
   "metadata": {},
   "source": [
    "Currently, we're just interested in comparing unique words. We can eliminate all duplicate words by converting each word-list into a set.\n",
    "\n",
    "**Listing 13. 4. Converting word-lists to sets**"
   ]
  },
  {
   "cell_type": "code",
   "execution_count": 5,
   "metadata": {},
   "outputs": [
    {
     "name": "stdout",
     "output_type": "stream",
     "text": [
      "Unique Words in text 1\n",
      "{'seashore', 'sells', 'the', 'she', 'seashells', 'by'}\n",
      "\n",
      "Unique Words in text 2\n",
      "{'seashore', 'sale', 'the', 'are', 'seashells', 'on', 'by'}\n",
      "\n",
      "Unique Words in text 3\n",
      "{'3', 'sells', 'who', 'lake', 'the', 'she', 'to', 'lives', 'seashells', 'by', 'john'}\n",
      "\n"
     ]
    }
   ],
   "source": [
    "words_sets = [set(words) for words in words_lists]\n",
    "for i, unique_words in enumerate(words_sets, 1):\n",
    "    print(f\"Unique Words in text {i}\")\n",
    "    print(f\"{unique_words}\\n\") "
   ]
  },
  {
   "cell_type": "markdown",
   "metadata": {},
   "source": [
    "Given two Python sets `set_a` and `set_b`, we can extract all overlapping elements by running `set_a & set_b`. Lets leverage the `'&'` operator to count overlapping words between text-pairs `(text1, text2)` and `(text1, text3)`.\n",
    "\n",
    "**Listing 13. 5. Extracting overlapping words between two texts**"
   ]
  },
  {
   "cell_type": "code",
   "execution_count": 6,
   "metadata": {},
   "outputs": [
    {
     "name": "stdout",
     "output_type": "stream",
     "text": [
      "Texts 1 and 2 share these 4 words:\n",
      "{'seashore', 'seashells', 'the', 'by'}\n",
      "\n",
      "Texts 1 and 3 share these 5 words:\n",
      "{'sells', 'the', 'she', 'seashells', 'by'}\n",
      "\n"
     ]
    }
   ],
   "source": [
    "words_set1 = words_sets[0]\n",
    "for i, words_set in enumerate(words_sets[1:], 2):\n",
    "    shared_words = words_set1 & words_set\n",
    "    print(f\"Texts 1 and {i} share these {len(shared_words)} words:\")\n",
    "    print(f\"{shared_words}\\n\")"
   ]
  },
  {
   "cell_type": "markdown",
   "metadata": {},
   "source": [
    "Lets count and print all diverging words between text-pairs `(text1, text2)` and `(text1, text3)`. We'll leverage the `^` operator to extract diverging elements between each pair of word-sets.\n",
    "\n",
    "**Listing 13. 6. Extracting diverging words between two texts**"
   ]
  },
  {
   "cell_type": "code",
   "execution_count": 7,
   "metadata": {},
   "outputs": [
    {
     "name": "stdout",
     "output_type": "stream",
     "text": [
      "Texts 1 and 2 don't share these 5 words:\n",
      "{'sells', 'sale', 'she', 'are', 'on'}\n",
      "\n",
      "Texts 1 and 3 don't share these 7 words:\n",
      "{'3', 'seashore', 'who', 'lake', 'to', 'lives', 'john'}\n",
      "\n"
     ]
    }
   ],
   "source": [
    "for i, words_set in enumerate(words_sets[1:], 2):\n",
    "    diverging_words = words_set1 ^ words_set\n",
    "    print(f\"Texts 1 and {i} don't share these {len(diverging_words)} words:\")\n",
    "    print(f\"{diverging_words}\\n\")"
   ]
  },
  {
   "cell_type": "markdown",
   "metadata": {},
   "source": [
    "Imagine if we combined all overlapping words and all diverging words between 2 texts. The combination shoud contain all the unique words across the 2 texts. This aggregation of all unique words is called a **union**. Lets utilize the `|` operator to count the total words across text-pairs `(text1, text2)` and `(text1, text3)`.\n",
    "\n",
    "**Listing 13. 7. Extracting the union of words between two texts**"
   ]
  },
  {
   "cell_type": "code",
   "execution_count": 8,
   "metadata": {},
   "outputs": [
    {
     "name": "stdout",
     "output_type": "stream",
     "text": [
      "Together, texts 1 and 2 contain 9 unique words. These words are:\n",
      " {'seashore', 'sells', 'sale', 'the', 'she', 'on', 'are', 'seashells', 'by'}\n",
      "\n",
      "Together, texts 1 and 3 contain 12 unique words. These words are:\n",
      " {'3', 'lake', 'to', 'lives', 'who', 'by', 'john', 'seashore', 'sells', 'the', 'she', 'seashells'}\n",
      "\n"
     ]
    }
   ],
   "source": [
    "for i, words_set in enumerate(words_sets[1:], 2):\n",
    "    total_words = words_set1 | words_set\n",
    "    print(f\"Together, texts 1 and {i} contain {len(total_words)} \" \n",
    "          f\"unique words. These words are:\\n {total_words}\\n\")"
   ]
  },
  {
   "cell_type": "markdown",
   "metadata": {},
   "source": [
    "Together, `text1` and `text3` contain 12 unique words. 5 of these words overlap. 7 of these words diverge. Accordingly, both overlap and divergence represent complementary percentages of the total unique word-count across texts. Lets output these percentages for text-pairs `(text1, text2)` and `(text1, text3)`.\n",
    "\n",
    "**Listing 13. 8. Extracting the percentage of shared words between two texts**"
   ]
  },
  {
   "cell_type": "code",
   "execution_count": 9,
   "metadata": {},
   "outputs": [
    {
     "name": "stdout",
     "output_type": "stream",
     "text": [
      "Together, texts 1 and 2 contain 9 unique words. \n",
      "44.44% of these words are shared. \n",
      "55.56% of these words diverge.\n",
      "\n",
      "Together, texts 1 and 3 contain 12 unique words. \n",
      "41.67% of these words are shared. \n",
      "58.33% of these words diverge.\n",
      "\n"
     ]
    }
   ],
   "source": [
    "for i, words_set in enumerate(words_sets[1:], 2):\n",
    "    shared_words = words_set1 & words_set\n",
    "    diverging_words = words_set1 ^ words_set\n",
    "    total_words = words_set1 | words_set\n",
    "    assert len(total_words) == len(shared_words) + len(diverging_words)\n",
    "    percent_shared = 100 * len(shared_words) / len(total_words)\n",
    "    percent_diverging = 100 * len(diverging_words) / len(total_words)\n",
    "    \n",
    "    print(f\"Together, texts 1 and {i} contain {len(total_words)} \" \n",
    "          f\"unique words. \\n{percent_shared:.2f}% of these words are \"\n",
    "          f\"shared. \\n{percent_diverging:.2f}% of these words diverge.\\n\")"
   ]
  },
  {
   "cell_type": "markdown",
   "metadata": {},
   "source": [
    "The percentage of shared words is a similarity metric which is called as the **Jaccard similarity**. \n",
    "\n",
    "### 13.1.1. Introduction to the Jaccard Similarity\n",
    "Lets define a function to compute the Jaccard similarity. \n",
    "\n",
    "**Listing 13. 9. Computing the Jaccard similarity**"
   ]
  },
  {
   "cell_type": "code",
   "execution_count": 10,
   "metadata": {},
   "outputs": [
    {
     "name": "stdout",
     "output_type": "stream",
     "text": [
      "The Jaccard similarity between 'She sells seashells by the seashore.' and '\"Seashells! The seashells are on sale! By the seashore.\"' equals 0.4444.\n",
      "\n",
      "The Jaccard similarity between 'She sells seashells by the seashore.' and 'She sells 3 seashells to John, who lives by the lake.' equals 0.4167.\n",
      "\n"
     ]
    }
   ],
   "source": [
    "def jaccard_similarity(text_a, text_b):\n",
    "    word_set_a, word_set_b = [set(simplify_text(text).split())\n",
    "                              for text in [text_a, text_b]]\n",
    "    num_shared = len(word_set_a & word_set_b)\n",
    "    num_total = len(word_set_a | word_set_b)\n",
    "    return num_shared / num_total\n",
    "\n",
    "for text in [text2, text3]:\n",
    "    similarity = jaccard_similarity(text1, text)\n",
    "    print(f\"The Jaccard similarity between '{text1}' and '{text}' \"\n",
    "          f\"equals {similarity:.4f}.\" \"\\n\")"
   ]
  },
  {
   "cell_type": "markdown",
   "metadata": {},
   "source": [
    "Our implementation of the Jaccard similarity is functional, but not very efficient. We can replace the union-computation with `len(word_set_a) + len(word_set_b) - num_shared`. This will make our function more efficient.  Lets modify the function, while ensuring that our Jaccard output remains the same.\n",
    "\n",
    "**Listing 13. 10. Efficiently computing the Jaccard similarity**"
   ]
  },
  {
   "cell_type": "code",
   "execution_count": 11,
   "metadata": {},
   "outputs": [],
   "source": [
    "def jaccard_similarity_efficient(text_a, text_b):\n",
    "    word_set_a, word_set_b = [set(simplify_text(text).split())\n",
    "                              for text in [text_a, text_b]]\n",
    "    num_shared = len(word_set_a & word_set_b)\n",
    "    num_total = len(word_set_a) + len(word_set_b) -  num_shared\n",
    "    return num_shared / num_total\n",
    "    \n",
    "for text in [text2, text3]:\n",
    "    similarity = jaccard_similarity_efficient(text1, text)\n",
    "    assert similarity == jaccard_similarity(text1, text)"
   ]
  },
  {
   "cell_type": "markdown",
   "metadata": {},
   "source": [
    "We've improved our Jaccard function. Unfortunately, our function still won't scale. The inefficiency is caused by our remaining set-comparison, `word_set_a & word_set_b`. The operation is too slow to execute across thousands of complicated texts. Perhaps we can speed-up the computation by somehow running it using NumPy.\n",
    "\n",
    "### 13.1.2. Replacing Words with Numeric Values\n",
    "Can we swap-out words for numbers? Yes! We simply need to iterate over all words in all texts, and assign each unique ith word a value of `i`. The mapping between words and their numeric values can be stored within a Python dictionary.  We'll refer to this dictionary as our **vocabulary**.\n",
    "\n",
    "**Listing 13. 11. Assigning words to numbers in a vocabulary**"
   ]
  },
  {
   "cell_type": "code",
   "execution_count": 12,
   "metadata": {},
   "outputs": [
    {
     "name": "stdout",
     "output_type": "stream",
     "text": [
      "Our vocabulary contains 15 words. This vocabulary is:\n",
      "{'3': 0, 'lake': 1, 'to': 2, 'are': 3, 'lives': 4, 'who': 5, 'by': 6, 'john': 7, 'seashore': 8, 'sells': 9, 'sale': 10, 'the': 11, 'she': 12, 'seashells': 13, 'on': 14}\n"
     ]
    }
   ],
   "source": [
    "words_set1, words_set2, words_set3 = words_sets\n",
    "total_words = words_set1 | words_set2 | words_set3\n",
    "vocabulary = {word : i for i, word in enumerate(total_words)}\n",
    "value_to_word = {value: word for word, value in vocabulary.items()}\n",
    "print(f\"Our vocabulary contains {len(vocabulary)} words. \" \n",
    "      f\"This vocabulary is:\\n{vocabulary}\")"
   ]
  },
  {
   "cell_type": "markdown",
   "metadata": {},
   "source": [
    "Given our vocabulary, we can convert any text into a 1-dimensional array of numbers. Mathematically, a 1D numeric array is called **vector**. There are numerous ways of vectorizing text. One basic approach involves creating a vector whose elements are binary. Lets use binary vectorization to convert all texts into NumPy arrays.\n",
    "\n",
    "**Listing 13. 12. Transforming words into binary vectors**"
   ]
  },
  {
   "cell_type": "code",
   "execution_count": 13,
   "metadata": {},
   "outputs": [
    {
     "data": {
      "image/png": "[encoded data removed]",
      "text/plain": [
       "<Figure size 432x288 with 2 Axes>"
      ]
     },
     "metadata": {
      "needs_background": "light"
     },
     "output_type": "display_data"
    }
   ],
   "source": [
    "import matplotlib.pyplot as plt\n",
    "import numpy as np\n",
    "import seaborn as sns\n",
    "\n",
    "vectors = []\n",
    "for i, words_set in enumerate(words_sets, 1):\n",
    "    vector = np.array([0] * len(vocabulary))\n",
    "    for word in words_set:\n",
    "        vector[vocabulary[word]] = 1\n",
    "    vectors.append(vector)\n",
    "    \n",
    "sns.heatmap(vectors, annot=True,  cmap='YlGnBu', \n",
    "            xticklabels=vocabulary.keys(),\n",
    "yticklabels=['Text 1', 'Text 2', 'Text 3'])\n",
    "plt.yticks(rotation=0)\n",
    "plt.show()"
   ]
  },
  {
   "cell_type": "markdown",
   "metadata": {},
   "source": [
    "Our binary vector representation allows us to extract shared words numerically. Suppose we wish to know whether the word in column `i` is present both in `text1` and `text2`. If the associated vectors are labeled as `vector1` and `vector2`, then the word is present in both texts if `vector1[i] * vector2[i] == 1`.\n",
    "\n",
    "**Listing 13. 13. Finding shared words using vector arithmetic**"
   ]
  },
  {
   "cell_type": "code",
   "execution_count": 14,
   "metadata": {},
   "outputs": [
    {
     "name": "stdout",
     "output_type": "stream",
     "text": [
      "'by' is present in both texts 1 and 2\n",
      "'seashore' is present in both texts 1 and 2\n",
      "'the' is present in both texts 1 and 2\n",
      "'seashells' is present in both texts 1 and 2\n"
     ]
    }
   ],
   "source": [
    "vector1, vector2 = vectors[:2]\n",
    "for i in range(len(vocabulary)):\n",
    "    if vector1[i] * vector2[i]:\n",
    "        shared_word = value_to_word[i]\n",
    "        print(f\"'{shared_word}' is present in both texts 1 and 2\")"
   ]
  },
  {
   "cell_type": "markdown",
   "metadata": {},
   "source": [
    "Our shared word-count is equal to the sum of every non-zero instance of `vector1[i] * vector2[i]`. Meanwhile, the sum of every zero-instance equals 0. Therefore, we can compute the shared-word count merely by summing the pairwise product of `vector1[i]` and `vector2[i]`, across every possible `i`.\n",
    "\n",
    "**Listing 13. 14. Counting shared words using vector arithmetic**"
   ]
  },
  {
   "cell_type": "code",
   "execution_count": 14,
   "metadata": {},
   "outputs": [],
   "source": [
    "shared_word_count = sum(vector1[i] * vector2[i] \n",
    "                        for i in range(len(vocabulary)))\n",
    "assert shared_word_count == len(words_set1 & words_set2)"
   ]
  },
  {
   "cell_type": "markdown",
   "metadata": {},
   "source": [
    "The sum of the pairwise products across all vector indices is called the **dot product**. Given two NumPy arrays, `vector_a` and `vector_b`, we can compute their dot product by running `vector_a.dot(vector_b)`. We can also compute the dot product using the `@` operator, by running `vector_a @ vector_b`.\n",
    "\n",
    "**Listing 13. 15. Computing a vector dot product using NumPy**"
   ]
  },
  {
   "cell_type": "code",
   "execution_count": 15,
   "metadata": {},
   "outputs": [],
   "source": [
    "assert vector1.dot(vector2) == shared_word_count\n",
    "assert vector1 @ vector2 == shared_word_count"
   ]
  },
  {
   "cell_type": "markdown",
   "metadata": {},
   "source": [
    "The dot product of `vector1` and `vector2` equals the shared word-count between `text1` and `text2`. Suppose instead, we take the dot product of `vector1` with itself. That dot product should equal `len(words_set1)`.\n",
    "\n",
    "**Listing 13. 16. Counting total words using vector arithmetic**"
   ]
  },
  {
   "cell_type": "code",
   "execution_count": 16,
   "metadata": {},
   "outputs": [],
   "source": [
    "assert vector1 @ vector1 == len(words_set1)\n",
    "assert vector2 @ vector2 == len(words_set2)"
   ]
  },
  {
   "cell_type": "markdown",
   "metadata": {},
   "source": [
    "We are able to compute both shared-word count and total unique word-count using vector dot products. Essentially, we can compute the Jaccard similarity using only vector operations. This vectorized implementation of Jaccard is called the **Tanimoto similarity**. Lets define a `tanimoto_similarity` function.\n",
    "\n",
    "**Listing 13. 17. Computing text similarity using vector arithmetic**"
   ]
  },
  {
   "cell_type": "code",
   "execution_count": 17,
   "metadata": {},
   "outputs": [],
   "source": [
    "def tanimoto_similarity(vector_a, vector_b):\n",
    "    num_shared = vector_a @ vector_b\n",
    "    num_total = vector_a @ vector_a + vector_b @ vector_b - num_shared\n",
    "    return num_shared / num_total\n",
    "\n",
    "for i, text in enumerate([text2, text3], 1):\n",
    "    similarity = tanimoto_similarity(vector1, vectors[i])\n",
    "    assert similarity == jaccard_similarity(text1, text)"
   ]
  },
  {
   "cell_type": "markdown",
   "metadata": {},
   "source": [
    "Our `tanimoto_similarity` function was intended to compare binary vectors. Can it also meaningfully compare non-binary vectors? Lets find out. \n",
    "\n",
    "**Listing 13. 18. Computing the similarity of non-binary vectors**"
   ]
  },
  {
   "cell_type": "code",
   "execution_count": 18,
   "metadata": {},
   "outputs": [
    {
     "name": "stdout",
     "output_type": "stream",
     "text": [
      "The similarity of 2 non-binary vectors is 0.96875\n"
     ]
    }
   ],
   "source": [
    "non_binary_vector1 = np.array([5, 3])\n",
    "non_binary_vector2 = np.array([5, 2])\n",
    "similarity = tanimoto_similarity(non_binary_vector1, non_binary_vector2)\n",
    "print(f\"The similarity of 2 non-binary vectors is {similarity}\")"
   ]
  },
  {
   "cell_type": "markdown",
   "metadata": {},
   "source": [
    "The outputted value is nearly equal to 1. Thus, `tanimoto_similarity` has successfully measured the similarity between 2 nearly identical vectors. The function is able to analyze non-binary inputs. \n",
    "\n",
    "## 13.2. Vectorizing Texts Using Word Counts\n",
    "\n",
    "\n",
    "A vector of word-counts is commonly referred to as **term-frequency vector**, or a **TF vector** for short. Word-counts can provide a differentiating signal between texts. For example, suppose we're contrasting 2 texts; A and B. Text A mentions _Duck_ 61 times and _Goose_ twice. Text B mentions _Goose_  71 times and _Duck_ only once. Lets actually compute the TF vectors of A and B, using a 2-element vocabulary `{'duck': 0, 'goose': 1}`. Given the vocabulary, we can convert the texts into TF vectors `[61, 2]` and `[1, 71]`. Below, we'll print the Tanimoto similarity of the 2 vectors.\n",
    "\n",
    "**Listing 13. 19. Computing TF vector similarity**"
   ]
  },
  {
   "cell_type": "code",
   "execution_count": 19,
   "metadata": {},
   "outputs": [
    {
     "name": "stdout",
     "output_type": "stream",
     "text": [
      "The similarity between texts is approximately 0.024\n"
     ]
    }
   ],
   "source": [
    "similarity = tanimoto_similarity(np.array([61, 2]), np.array([1, 71]))\n",
    "print(f\"The similarity between texts is approximately {similarity:.3f}\")"
   ]
  },
  {
   "cell_type": "markdown",
   "metadata": {},
   "source": [
    "The TF vector similarity between the texts is very low. Its less than .025. Lets compare this to the binary-vector similarity of the 2 texts. Each text has a binary-vector representation of `[1, 1]`. Thus, the similarity of the 2 identical vectors should equal 1.\n",
    "\n",
    "**Listing 13. 20. Assessing identical vector similarity**"
   ]
  },
  {
   "cell_type": "code",
   "execution_count": 20,
   "metadata": {},
   "outputs": [],
   "source": [
    "assert tanimoto_similarity(np.array([1, 1]), np.array([1, 1])) == 1"
   ]
  },
  {
   "cell_type": "markdown",
   "metadata": {},
   "source": [
    "Replacing binary values with word-counts can greatly impact our similarity output. What will happen if we vectorize `text1`, `text2`, and `text3` based on their word-counts? Lets find out.\n",
    "\n",
    "**Listing 13. 21. Computing TF vectors from word lists**"
   ]
  },
  {
   "cell_type": "code",
   "execution_count": 21,
   "metadata": {},
   "outputs": [
    {
     "data": {
      "image/png": "[encoded data removed]",
      "text/plain": [
       "<Figure size 432x288 with 2 Axes>"
      ]
     },
     "metadata": {
      "needs_background": "light"
     },
     "output_type": "display_data"
    }
   ],
   "source": [
    "tf_vectors = []\n",
    "for i, words_list in enumerate(words_lists, 1):\n",
    "    tf_vector = np.array([0] * len(vocabulary))\n",
    "    for word in words_list:\n",
    "        word_index = vocabulary[word]\n",
    "        # Update the count of each word using its vocabulary index.\n",
    "        tf_vector[word_index] += 1\n",
    "        \n",
    "    tf_vectors.append(tf_vector)\n",
    "    \n",
    "    \n",
    "sns.heatmap(tf_vectors,  cmap='YlGnBu', annot=True, \n",
    "            xticklabels=vocabulary.keys(),\n",
    "yticklabels=['Text 1', 'Text 2', 'Text 3'])\n",
    "plt.yticks(rotation=0)\n",
    "plt.show()"
   ]
  },
  {
   "cell_type": "markdown",
   "metadata": {},
   "source": [
    "Lets compute TF vector similarity between `text1` and the other 2 texts. We'll also printthe original binary vector similarity, for comparison. Based on our observations, the similarity between `text1` and `text2` should shift, while the similarity between `text1` and `text3` should remain the same.\n",
    "\n",
    "**Listing 13. 22. Comparing metrics of vector similarity**"
   ]
  },
  {
   "cell_type": "code",
   "execution_count": 22,
   "metadata": {},
   "outputs": [
    {
     "name": "stdout",
     "output_type": "stream",
     "text": [
      "The recomputed Tanimoto similarity between texts 1 and 2 is 0.4615.\n",
      "Previously, that similarity equaled 0.4444 \n",
      "\n",
      "The recomputed Tanimoto similarity between texts 1 and 3 is 0.4167.\n",
      "Previously, that similarity equaled 0.4167 \n",
      "\n"
     ]
    }
   ],
   "source": [
    "tf_vector1 = tf_vectors[0]\n",
    "binary_vector1 = vectors[0]\n",
    "\n",
    "for i, tf_vector in enumerate(tf_vectors[1:], 2):\n",
    "    similarity = tanimoto_similarity(tf_vector1, tf_vector)\n",
    "    old_similarity = tanimoto_similarity(binary_vector1, vectors[i - 1])\n",
    "    print(f\"The recomputed Tanimoto similarity between texts 1 and {i} is\"\n",
    "          f\" {similarity:.4f}.\")\n",
    "    print(f\"Previously, that similarity equaled {old_similarity:.4f} \" \"\\n\")"
   ]
  },
  {
   "cell_type": "markdown",
   "metadata": {},
   "source": [
    "TF vectors yield improved comparisons, because they're sensitive to count-differences between texts. This sensitively is useful. However, it can also be detrimental when comparing texts of different lengths\n",
    "\n",
    "### 13.2.1. Using Normalization to Improve TF Vector Similarity\n",
    "\n",
    "Imagine you are testing a very simple search engine. The search engine takes a query as input. It then compares the query to document-titles within a database. Suppose you run a query for \"Pepperoni Pizza\". The following 2 titles are returned: \n",
    "\n",
    "* Title A: \"Pepperoni Pizza! Pepperoni Pizza! Pepperoni Pizza!\"\n",
    "* Title B:  \"Pepperoni\"\n",
    "\n",
    "Lets check if Title A ranks higher than Title B, relative to query. We'll start by constructing TF vectors from a 2-element vocabulary `{pepperoni: 0, pizza: 1}`.\n",
    "\n",
    "**Listing 13. 23. Simple search engine vectorization**"
   ]
  },
  {
   "cell_type": "code",
   "execution_count": 23,
   "metadata": {},
   "outputs": [],
   "source": [
    "query_vector = np.array([1, 1])\n",
    "title_a_vector = np.array([3, 3])\n",
    "title_b_vector = np.array([1, 0])"
   ]
  },
  {
   "cell_type": "markdown",
   "metadata": {},
   "source": [
    "We'll now compare the query to the titles, and sort the titles based on the Tanimoto similarity.\n",
    "\n",
    "**Listing 13. 24. Ranking titles by query similarity**"
   ]
  },
  {
   "cell_type": "code",
   "execution_count": 24,
   "metadata": {},
   "outputs": [
    {
     "name": "stdout",
     "output_type": "stream",
     "text": [
      "'B: Pepperoni' has a query similarity of 0.5000\n",
      "'A: Pepperoni Pizza! Pepperoni Pizza! Pepperoni Pizza!' has a query similarity of 0.4286\n"
     ]
    }
   ],
   "source": [
    "titles = [\"A: Pepperoni Pizza! Pepperoni Pizza! Pepperoni Pizza!\", \n",
    "          \"B: Pepperoni\"]\n",
    "title_vectors = [title_a_vector, title_b_vector]\n",
    "similarities = [tanimoto_similarity(query_vector, title_vector)\n",
    "                for title_vector in title_vectors]\n",
    "\n",
    "for index in sorted(range(len(titles)), key=lambda i: similarities[i], \n",
    "                    reverse=True):\n",
    "    title = titles[index]\n",
    "    similarity = similarities[index]\n",
    "    print(f\"'{title}' has a query similarity of {similarity:.4f}\")"
   ]
  },
  {
   "cell_type": "markdown",
   "metadata": {},
   "source": [
    "Unfortunately, Title A outranks Title B. This discrepancy in rankings is caused by text-size. Title A has 3x as many words as the query. We need to subdue the influence of text-size on ranked results. One naïve approach is to just divide `title_a_vector` by 3.\n",
    "\n",
    "**Listing 13. 25. Eliminating size differences through division**"
   ]
  },
  {
   "cell_type": "code",
   "execution_count": 25,
   "metadata": {},
   "outputs": [],
   "source": [
    "assert np.array_equal(query_vector, title_a_vector / 3)\n",
    "assert tanimoto_similarity(query_vector, \n",
    "                           title_a_vector / 3) == 1"
   ]
  },
  {
   "cell_type": "markdown",
   "metadata": {},
   "source": [
    "Using simple division, we can manipulate `title_a_vector` to equal `query_vector`. Such manipulation is not possible for `title_b_vector`. Why is this the case? To illustrate the answer, we'll need to plot all 3 vectors in 2D space. We'll visualize the vectors as line segments that stretch from the origin.\n",
    "\n",
    "**Listing 13. 26. Plotting TF Vectors in 2D Space**"
   ]
  },
  {
   "cell_type": "code",
   "execution_count": 26,
   "metadata": {},
   "outputs": [
    {
     "data": {
      "image/png": "[encoded data removed]",
      "text/plain": [
       "<Figure size 432x288 with 1 Axes>"
      ]
     },
     "metadata": {
      "needs_background": "light"
     },
     "output_type": "display_data"
    }
   ],
   "source": [
    "plt.plot([0, query_vector[0]], [0, query_vector[1]], c='k', \n",
    "         linewidth=3, label='Query Vector')\n",
    "plt.plot([0, title_a_vector[0]], [0, title_a_vector[1]], c='b', \n",
    "          linestyle='--', label='Title A Vector')\n",
    "plt.plot([0, title_b_vector[0]], [0, title_b_vector[1]], c='g', \n",
    "         linewidth=2, linestyle='-.', label='Title B Vector')\n",
    "plt.xlabel('Pepperoni')\n",
    "plt.ylabel('Pizza')\n",
    "plt.legend()\n",
    "plt.show()"
   ]
  },
  {
   "cell_type": "markdown",
   "metadata": {},
   "source": [
    "Within our plot, `title_a_vector` and `query_vector` point in the same direction.  Shrinking `title_a_vector` will force the 2 lines to be exactly identical. Meanwhile, `title_b_vector` and `query_vector` point in different directions. There is no way to make these vectors overlap. Shrinking or lengthing `title_b_vector` will not yield alignment with the other 2 line segments.\n",
    "\n",
    "We've gained some insight by representing our vectors as line segments. Every vector has a geometrical length. That length is called the **magnitude**. Given vector `v`, we can measure the magnitude naively, by measuring the Euclidean distance between `v` and the origin. We can also find the magnitude using NumPy, by running `np.linalg.norm(v)`. Finally, we can compute the magnitude using the Pythagorean theorem. According the that theorem, the magnitude of `v` equals `(v @ v) ** 0.5`.\n",
    "\n",
    "**Listing 13. 27. Computing vector magnitude**"
   ]
  },
  {
   "cell_type": "code",
   "execution_count": 27,
   "metadata": {},
   "outputs": [
    {
     "name": "stdout",
     "output_type": "stream",
     "text": [
      "Query Vector's magnitude is approximately 1.4142\n",
      "Title A Vector's magnitude is approximately 4.2426\n",
      "Title B Vector's magnitude is approximately 1.0000\n",
      "\n",
      "Vector A is 3x as long as Query Vector\n"
     ]
    }
   ],
   "source": [
    "from scipy.spatial.distance import euclidean\n",
    "from numpy.linalg import norm\n",
    "\n",
    "vector_names = ['Query Vector', 'Title A Vector', 'Title B Vector']\n",
    "tf_search_vectors = [query_vector, title_a_vector, title_b_vector]\n",
    "origin = np.array([0, 0])\n",
    "for name, tf_vector in zip(vector_names, tf_search_vectors):\n",
    "    magnitude = euclidean(tf_vector, origin)\n",
    "    assert magnitude == norm(tf_vector)\n",
    "    assert magnitude == (tf_vector @ tf_vector) ** 0.5\n",
    "    print(f\"{name}'s magnitude is approximately {magnitude:.4f}\")\n",
    "\n",
    "magnitude_ratio = norm(title_a_vector) / norm(query_vector)\n",
    "print(f\"\\nVector A is {magnitude_ratio:.0f}x as long as Query Vector\")"
   ]
  },
  {
   "cell_type": "markdown",
   "metadata": {},
   "source": [
    "The magnitude of `title_vector_b` is equal to exactly 1. A vector with a magnitude of 1 is referred to as a **unit vector**. One benefit of unit vectors is that they are easy to compare. Since unit-vectors share an equal magnitude, it doesn't play a role in their similarity. \n",
    "\n",
    "Dividing any vector by its magnitude will transform that magnitude to 1. That division by the magnitude is called **normalization**.  Running `v / norm(v)` will return a **normalized vector** with a magnitude of 1.  We'll now normalize our vectors and a generate a unit-vector plot. Within the plot, 2 of the vectors should be totally identical.\n",
    "\n",
    "**Listing 13. 28. Plotting normalized vectors**"
   ]
  },
  {
   "cell_type": "code",
   "execution_count": 28,
   "metadata": {},
   "outputs": [
    {
     "data": {
      "image/png": "[encoded data removed]",
      "text/plain": [
       "<Figure size 432x288 with 1 Axes>"
      ]
     },
     "metadata": {
      "needs_background": "light"
     },
     "output_type": "display_data"
    }
   ],
   "source": [
    "unit_query_vector = query_vector / norm(query_vector)\n",
    "unit_title_a_vector = title_a_vector / norm(title_a_vector)\n",
    "assert np.allclose(unit_query_vector, unit_title_a_vector)\n",
    "unit_title_b_vector = title_b_vector\n",
    "\n",
    "plt.plot([0, unit_query_vector[0]], [0, unit_query_vector[1]], c='k', \n",
    "         linewidth=3, label='Normalized Query Vector')\n",
    "plt.plot([0, unit_title_a_vector[0]], [0, unit_title_a_vector[1]], c='b', \n",
    "          linestyle='--', label='Normalized Title A Vector')\n",
    "plt.plot([0, unit_title_b_vector[0]], [0, unit_title_b_vector[1]], c='g', \n",
    "         linewidth=2, linestyle='-.', label='Title B Vector')\n",
    "\n",
    "plt.axis('equal')\n",
    "plt.legend()\n",
    "plt.show()"
   ]
  },
  {
   "cell_type": "markdown",
   "metadata": {},
   "source": [
    "The normalized query vector and the normalized Title B vector are now indistinguishable. Meanwhile, the location of the Title B vector diverges from the query vector, because the two segments point in different directions. As a consequence, Title A should now outrank Title B, relative to the query.\n",
    "\n",
    "**Listing 13. 29. Ranking titles by unit-vector similarity**"
   ]
  },
  {
   "cell_type": "code",
   "execution_count": 29,
   "metadata": {},
   "outputs": [
    {
     "name": "stdout",
     "output_type": "stream",
     "text": [
      "'A: Pepperoni Pizza! Pepperoni Pizza! Pepperoni Pizza!' has a normalized query similarity of 1.0000\n",
      "'B: Pepperoni' has a normalized query similarity of 0.5469\n"
     ]
    }
   ],
   "source": [
    "unit_title_vectors = [unit_title_a_vector, unit_title_b_vector]\n",
    "similarities = [tanimoto_similarity(unit_query_vector, unit_title_vector)\n",
    "                for unit_title_vector in unit_title_vectors]\n",
    "\n",
    "for index in sorted(range(len(titles)), key=lambda i: similarities[i], \n",
    "                    reverse=True):\n",
    "    title = titles[index]\n",
    "    similarity = similarities[index]\n",
    "    print(f\"'{title}' has a normalized query similarity of {similarity:.4f}\")"
   ]
  },
  {
   "cell_type": "markdown",
   "metadata": {},
   "source": [
    "Vector normalization has fixed a flaw in our search engine. The search engine is no longer overly sensitive to title-length. Also, in the process, we have inadvertently made our Tanimoto computation more efficient. Given two normalized unit vectors `u1` and `u2`, their Tanimoto similarity reduces to `u1 @ u2 / (2 - u1 @ u2)`. Taking the dot product of each vector with itself is no longer necessary. The only required vector computation is `u1 @ u2`. \n",
    "\n",
    "**Listing 13. 30. Computing a unit-vector Tanimoto similarity**"
   ]
  },
  {
   "cell_type": "code",
   "execution_count": 30,
   "metadata": {},
   "outputs": [],
   "source": [
    "def normalized_tanimoto(u1, u2):\n",
    "    dot_product = u1 @ u2\n",
    "    return dot_product / (2 - dot_product)\n",
    "\n",
    "for unit_title_vector in unit_title_vectors[1:]:\n",
    "    similarity = normalized_tanimoto(unit_query_vector, unit_title_vector)\n",
    "    assert similarity == tanimoto_similarity(unit_query_vector, \n",
    "                                             unit_title_vector)"
   ]
  },
  {
   "cell_type": "markdown",
   "metadata": {},
   "source": [
    "The dot product of 2 unit-vectors is a very special value. It can easily be converted into the angle between the vectors, and also into the spatial distance between them. \n",
    "\n",
    "#### Utilizing Unit-Vector Dot Products to Convert Between Relevance Metrics\n",
    "The unit-vector dot product unites multiple types of comparison metrics. We've just seen how `tanimoto_similarity(u1, u2)` is a direct function of `u1 @ u2`. As it turns out, the Euclidian distance between unit-vectors is also a function of `u1 @ u2`. Its not difficult prove that `euclidian(u1, u2)` equals `+(2 - 2* u1 @ u2) ** 0.5+`. Additionally, `u1 @ u2` equals the cosine of the angle between the unit-vectors. Thus `u1 @ u2` is commonly referred to as the **cosine similarity**.\n",
    "\n",
    "The code below illustrates how easy it is to convert between the Tanimoto similarity, the cosine similarity, and the Euclidean distance.\n",
    "\n",
    "**Listing 13. 31. Converting between unit-vector metrics**"
   ]
  },
  {
   "cell_type": "code",
   "execution_count": 31,
   "metadata": {},
   "outputs": [
    {
     "name": "stdout",
     "output_type": "stream",
     "text": [
      "We are comparing Normalized Query Vector and Normalized Title A vector\n",
      "The Tanimoto similarity between vectors is 1.0000\n",
      "The cosine similarity between vectors is 1.0000\n",
      "The Euclidean distance between vectors is 0.0000\n",
      "The angle between vectors is 0.0000 degrees\n",
      "\n",
      "We are comparing Normalized Query Vector and Title B Vector\n",
      "The Tanimoto similarity between vectors is 0.5469\n",
      "The cosine similarity between vectors is 0.7071\n",
      "The Euclidean distance between vectors is 0.7654\n",
      "The angle between vectors is 45.0000 degrees\n",
      "\n"
     ]
    }
   ],
   "source": [
    "unit_vector_names = ['Normalized Title A vector', 'Title B Vector']\n",
    "u1 = unit_query_vector\n",
    "\n",
    "for unit_vector_name, u2 in zip(unit_vector_names, unit_title_vectors):\n",
    "    similarity = normalized_tanimoto(u1, u2)\n",
    "    cosine_similarity  = 2 * similarity / (1 + similarity)\n",
    "    assert cosine_similarity == u1 @ u2\n",
    "    angle = np.arccos(cosine_similarity)\n",
    "    euclidean_distance = (2 - 2 * cosine_similarity) ** 0.5\n",
    "    assert round(euclidean_distance, 10) == round(euclidean(u1, u2), 10)\n",
    "    measurements = {'Tanimoto similarity': similarity,\n",
    "                    'cosine similarity': cosine_similarity,\n",
    "                    'Euclidean distance': euclidean_distance,\n",
    "                    'angle': np.degrees(angle)}\n",
    "    \n",
    "    print(\"We are comparing Normalized Query Vector and \"\n",
    "           f\"{unit_vector_name}\")\n",
    "    for measurement_type, value in measurements.items():\n",
    "        output = f\"The {measurement_type} between vectors is {value:.4f}\"\n",
    "        if measurement_type == 'angle':\n",
    "            output += ' degrees\\n'\n",
    "        \n",
    "        print(output)"
   ]
  },
  {
   "cell_type": "markdown",
   "metadata": {},
   "source": [
    "Vector normalization allows us to swap between multiple comparison metrics. Other benefits of normalization include a more efficient computation of the similarity between every pair of vectors. This called the **all-by-all similarity**.  The all-by-all similarity can be elegantly computed using **matrix multiplication**. In mathematics, matrix multiplication generalizes the dot product from 1-dimensional vectors to 2-dimensional arrays. The generalized dot product leads to the efficient computation of similarities across all pairs of texts.\n",
    "\n",
    "## 13.3. Matrix Multiplication for Efficient Similarity Calculation\n",
    "\n",
    "When analyzing our _seashell_-centric texts, we compared each text-pair individually. What if instead, we visualized all pairwise similarities? The rows and columns of the table would correspond to individual texts. The table would provide us with a bird's-eye view of all the relationship between texts. We would finally learn whether `text2` is more similar to `text1` or to `text3`.\n",
    "\n",
    "Lets generate a table of normalized Tanimoto similarities.\n",
    "\n",
    "**Listing 13. 32. Computing a table of normalized Tanimoto similarities**"
   ]
  },
  {
   "cell_type": "code",
   "execution_count": 32,
   "metadata": {},
   "outputs": [
    {
     "data": {
      "image/png": "[encoded data removed]",
      "text/plain": [
       "<Figure size 432x288 with 2 Axes>"
      ]
     },
     "metadata": {
      "needs_background": "light"
     },
     "output_type": "display_data"
    }
   ],
   "source": [
    "num_texts = len(tf_vectors)\n",
    "similarities = np.array([[0.0] * num_texts for _ in range(num_texts)])\n",
    "similarities = np.zeros((num_texts, num_texts))\n",
    "unit_vectors = np.array([vector / norm(vector) for vector in tf_vectors])\n",
    "for i, vector_a in enumerate(unit_vectors):\n",
    "    for j, vector_b in enumerate(unit_vectors):\n",
    "        similarities[i][j] = normalized_tanimoto(vector_a, vector_b)\n",
    "        \n",
    "labels = ['Text 1', 'Text 2', 'Text 3']\n",
    "sns.heatmap(similarities,  cmap='YlGnBu', annot=True, \n",
    "            xticklabels=labels, yticklabels=labels)\n",
    "plt.yticks(rotation=0)\n",
    "plt.show()"
   ]
  },
  {
   "cell_type": "markdown",
   "metadata": {},
   "source": [
    "Looking at the table is informative. We can immediately tell which text-pairs share the highest similarity, and which texts share the lowest similarity. However, our table computation relied on inefficient code. We can purge our code of these operations using matrix multiplication. However, we'll first need to introduce basic matrix operations.\n",
    "\n",
    "### 1.3.1. Basic Matrix Operations\n",
    "\n",
    "A **matrix** is the extention of a 1-dimensional vector to 2 dimensions. In other words, a matrix is just table of numbers. Since matrices are tables, they can be analyzed using Pandas. Conversely, numeric tables can be handled using 2D NumPy arrays. Both matrix representations are valid. In fact, Pandas DataFrames and NumPy arrays can sometimes be used interchangeably. This is because DataFrames and arrays share certain attributes.\n",
    "\n",
    "**Listing 13. 33. Comparing Pandas and NumPy matrix attributes**"
   ]
  },
  {
   "cell_type": "code",
   "execution_count": 33,
   "metadata": {},
   "outputs": [
    {
     "name": "stdout",
     "output_type": "stream",
     "text": [
      "Our Pandas DataFrame contains 3 rows and 15 columns\n",
      "Our 2D NumPy array contains 3 rows and 15 columns\n"
     ]
    }
   ],
   "source": [
    "import pandas as pd\n",
    "\n",
    "matrices = [unit_vectors, pd.DataFrame(unit_vectors)]\n",
    "matrix_types = ['Pandas DataFrame', '2D NumPy array']\n",
    "\n",
    "for matrix_type, matrix in zip(matrix_types, matrices):\n",
    "    row_count, column_count = matrix.shape\n",
    "    print(f\"Our {matrix_type} contains \"\n",
    "          f\"{row_count} rows and {column_count} columns\")\n",
    "    assert (column_count, row_count) == matrix.T.shape"
   ]
  },
  {
   "cell_type": "markdown",
   "metadata": {},
   "source": [
    "Pandas and NumPy table structures are similar. Nonetheless, there are certain benefits to storing matrices within 2D NumPy arrays. One immediate benefit is NumPy's integration of Python's built-in arithmetic operators.\n",
    "\n",
    "#### NumPy Matrix Arithmetic Operations\n",
    "\n",
    "Doubling the values of a matrix is very easy to do in NumPy. For example, we can double our `similarities` matrix by running `2 * similarities`. We can also add `similarities` directly to itself, by running `similarities + similarities`. Of course, the 2 arithmetic outputs will equal. Meanwhile, running `similarities - similarities` will return a matrix of zeros. Furthermore, running `similarities - similarities - 1` will subtract 1 from each of the zeros. \n",
    "\n",
    "**Listing 13. 34. NumPy array addition and subtraction**"
   ]
  },
  {
   "cell_type": "code",
   "execution_count": 34,
   "metadata": {},
   "outputs": [],
   "source": [
    "double_similarites = 2 * similarities\n",
    "np.array_equal(double_similarites, similarities + similarities)\n",
    "zero_matrix = similarities - similarities\n",
    "negative_1_matrix = similarities - similarities - 1\n",
    "\n",
    "for i in range(similarities.shape[0]):\n",
    "    for j in range(similarities.shape[1]):\n",
    "        assert double_similarites[i][j] == 2 * similarities[i][j]\n",
    "        assert zero_matrix[i][j] == 0\n",
    "        assert negative_1_matrix[i][j] == -1"
   ]
  },
  {
   "cell_type": "markdown",
   "metadata": {},
   "source": [
    "In that same manner, we can multiply and divide NumPy arrays. Running `similarities / similarities` will divide each similarity by itself, thus returning a matrix of ones. Meanwhile, running `similarities * similarities` will return a matrix of squared similarity values.\n",
    "\n",
    "**Listing 13. 35. NumPy array multiplication and division**"
   ]
  },
  {
   "cell_type": "code",
   "execution_count": 35,
   "metadata": {},
   "outputs": [],
   "source": [
    "squared_similarities = similarities * similarities\n",
    "assert np.array_equal(squared_similarities, similarities ** 2)\n",
    "ones_matrix = similarities / similarities\n",
    "\n",
    "for i in range(similarities.shape[0]):\n",
    "    for j in range(similarities.shape[1]):\n",
    "        assert squared_similarities[i][j] == similarities[i][j] ** 2\n",
    "        assert ones_matrix[i][j] == 1"
   ]
  },
  {
   "cell_type": "markdown",
   "metadata": {},
   "source": [
    "Matrix arithmetic lets us conveniently transition between similarity-matrix types.  For instance, we can convert our Tanimoto matrix into a cosine similarity matrix, simply by running `2 * similarities / (1 + similarities)`.\n",
    "\n",
    "**Listing 13. 36. Converting between matrix similarity-types**"
   ]
  },
  {
   "cell_type": "code",
   "execution_count": 36,
   "metadata": {},
   "outputs": [],
   "source": [
    "cosine_similarities  = 2 * similarities / (1 + similarities)\n",
    "for i in range(similarities.shape[0]):\n",
    "    for j in range(similarities.shape[1]):\n",
    "        cosine_sim = unit_vectors[i] @ unit_vectors[j]\n",
    "        assert round(cosine_similarities[i][j], \n",
    "                     15) == round(cosine_sim, 15)"
   ]
  },
  {
   "cell_type": "markdown",
   "metadata": {},
   "source": [
    "NumPy 2D arrays confer additional benefits over Pandas. Accessing rows and columns by index is much more straightforward in NumPy. \n",
    "\n",
    "#### NumPy Matrix Row and Column Operations\n",
    "\n",
    "Given any 2D `matrix` array, we can access the row at index `i` by running `matrix[i]`. Likewise, we can access the column at index `j` by running `matrix[:,j]`.  \n",
    "\n",
    "Lets use NumPy indexing to print the second row and column of both `unit_vectors` and `similarities`.\n",
    "\n",
    "**Listing 13. 37. Accessing NumPy matrix rows and columns**"
   ]
  },
  {
   "cell_type": "code",
   "execution_count": 37,
   "metadata": {},
   "outputs": [
    {
     "name": "stdout",
     "output_type": "stream",
     "text": [
      "Accessing rows and columns in the Similarities Matrix.\n",
      "Row at index 1 is:\n",
      "[1.         0.51442439 0.44452044]\n",
      "\n",
      "Column at index 1 is:\n",
      "[1.         0.51442439 0.44452044]\n",
      "\n",
      "Accessing rows and columns in the Unit Vectors Matrix.\n",
      "Row at index 1 is:\n",
      "[0.         0.40824829 0.40824829 0.40824829 0.40824829 0.\n",
      " 0.         0.         0.         0.40824829 0.         0.40824829\n",
      " 0.         0.         0.        ]\n",
      "\n",
      "Column at index 1 is:\n",
      "[0.         0.         0.30151134]\n",
      "\n"
     ]
    }
   ],
   "source": [
    "for name, matrix in [('Similarities', similarities),\n",
    "                     ('Unit Vectors', unit_vectors)]:\n",
    "    print(f\"Accessing rows and columns in the {name} Matrix.\")\n",
    "    row, column = matrix[0], matrix[:,0]\n",
    "    print(f\"Row at index 1 is:\\n{row}\")\n",
    "    print(f\"\\nColumn at index 1 is:\\n{column}\\n\")"
   ]
  },
  {
   "cell_type": "markdown",
   "metadata": {},
   "source": [
    "All printed rows and columns are 1-dimensional NumPy arrays. Given two arrays, we can compute their dot product, but only if the array lengths are the same. In our output, both `similarities[0].size` and `unit_vectors[:,0].size` are equal to 3. Hence, we can take the dot product between the first row of `similarities` and the first column of `unit_vectors`.\n",
    "\n",
    "**Listing 13. 38. Computing the dot product between a row and column**"
   ]
  },
  {
   "cell_type": "code",
   "execution_count": 38,
   "metadata": {},
   "outputs": [
    {
     "name": "stdout",
     "output_type": "stream",
     "text": [
      "The dot product between row 0 column 0 is: 0.1340\n",
      "The dot product between row 0 column 1 is: 0.5509\n",
      "The dot product between row 0 column 2 is: 0.5423\n",
      "The dot product between row 0 column 3 is: 0.8276\n",
      "The dot product between row 0 column 4 is: 0.6850\n",
      "The dot product between row 0 column 5 is: 0.1340\n",
      "The dot product between row 0 column 6 is: 0.1340\n",
      "The dot product between row 0 column 7 is: 0.1340\n",
      "The dot product between row 0 column 8 is: 0.1340\n",
      "The dot product between row 0 column 9 is: 0.5423\n",
      "The dot product between row 0 column 10 is: 0.1427\n",
      "The dot product between row 0 column 11 is: 0.8276\n",
      "The dot product between row 0 column 12 is: 0.1427\n",
      "The dot product between row 0 column 13 is: 0.1340\n",
      "The dot product between row 0 column 14 is: 0.1427\n",
      "The dot product between row 1 column 0 is: 0.0797\n",
      "The dot product between row 1 column 1 is: 0.4874\n",
      "The dot product between row 1 column 2 is: 0.2897\n",
      "The dot product between row 1 column 3 is: 0.8444\n",
      "The dot product between row 1 column 4 is: 0.5671\n",
      "The dot product between row 1 column 5 is: 0.0797\n",
      "The dot product between row 1 column 6 is: 0.0797\n",
      "The dot product between row 1 column 7 is: 0.0797\n",
      "The dot product between row 1 column 8 is: 0.0797\n",
      "The dot product between row 1 column 9 is: 0.2897\n",
      "The dot product between row 1 column 10 is: 0.2774\n",
      "The dot product between row 1 column 11 is: 0.8444\n",
      "The dot product between row 1 column 12 is: 0.2774\n",
      "The dot product between row 1 column 13 is: 0.0797\n",
      "The dot product between row 1 column 14 is: 0.2774\n",
      "The dot product between row 2 column 0 is: 0.3015\n",
      "The dot product between row 2 column 1 is: 0.2548\n",
      "The dot product between row 2 column 2 is: 0.4830\n",
      "The dot product between row 2 column 3 is: 0.6296\n",
      "The dot product between row 2 column 4 is: 0.5563\n",
      "The dot product between row 2 column 5 is: 0.3015\n",
      "The dot product between row 2 column 6 is: 0.3015\n",
      "The dot product between row 2 column 7 is: 0.3015\n",
      "The dot product between row 2 column 8 is: 0.3015\n",
      "The dot product between row 2 column 9 is: 0.4830\n",
      "The dot product between row 2 column 10 is: 0.0733\n",
      "The dot product between row 2 column 11 is: 0.6296\n",
      "The dot product between row 2 column 12 is: 0.0733\n",
      "The dot product between row 2 column 13 is: 0.3015\n",
      "The dot product between row 2 column 14 is: 0.0733\n"
     ]
    }
   ],
   "source": [
    "num_rows = similarities.shape[0]\n",
    "num_columns = unit_vectors.shape[1]\n",
    "for i in range(num_rows):\n",
    "    for j in range(num_columns):\n",
    "        row = similarities[i]\n",
    "        column = unit_vectors[:,j]\n",
    "        dot_product = row @ column\n",
    "        print(f\"The dot product between row {i} column {j} is: \"\n",
    "              f\"{dot_product:.4f}\")"
   ]
  },
  {
   "cell_type": "markdown",
   "metadata": {},
   "source": [
    "We've generated 45 dot products, one for each row, column combination.  These outputs can be stored more concisely in a matrix called `dot_products`, where `dot_products[i][j]` is equal to `similarities[i] @ unit_vectors[:,j]`.\n",
    "\n",
    "**Listing 13. 40. Storing all-by-all dot products in a matrix**"
   ]
  },
  {
   "cell_type": "code",
   "execution_count": 39,
   "metadata": {},
   "outputs": [
    {
     "name": "stdout",
     "output_type": "stream",
     "text": [
      "[[0.13402795 0.55092394 0.54227624 0.82762755 0.6849519  0.13402795\n",
      "  0.13402795 0.13402795 0.13402795 0.54227624 0.14267565 0.82762755\n",
      "  0.14267565 0.13402795 0.14267565]\n",
      " [0.07969524 0.48736297 0.28970812 0.84440831 0.56705821 0.07969524\n",
      "  0.07969524 0.07969524 0.07969524 0.28970812 0.2773501  0.84440831\n",
      "  0.2773501  0.07969524 0.2773501 ]\n",
      " [0.30151134 0.25478367 0.48298605 0.62960397 0.55629501 0.30151134\n",
      "  0.30151134 0.30151134 0.30151134 0.48298605 0.07330896 0.62960397\n",
      "  0.07330896 0.30151134 0.07330896]]\n"
     ]
    }
   ],
   "source": [
    "dot_products = np.zeros((num_rows, num_columns))\n",
    "for i in range(num_rows):\n",
    "    for j in range(num_columns):\n",
    "        dot_products[i][j] = similarities[i] @ unit_vectors[:,j]\n",
    "\n",
    "print(dot_products)"
   ]
  },
  {
   "cell_type": "markdown",
   "metadata": {},
   "source": [
    "The operation we've just executed is called a **matrix product**.  Given two matrices `matrix_a` and `matrix_b`, we can compute their product by calculating `matrix_c`, where `matrix_c[i][j]` is equal to `matrix_a[i] @ matrix_b[:,j]`.\n",
    "\n",
    "#### NumPy Matrix Products\n",
    "\n",
    "Conveniently, NumPy's product operator `@` can be applied to 2D matrices as well as to 1D arrays. If `matrix_a` and `matrix_b` are both NumPy arrays, then `matrix_c` is will equal `matrix_a @ matrix_b`.\n",
    "\n",
    "**Listing 13. 41. Computing a matrix product using NumPy**"
   ]
  },
  {
   "cell_type": "code",
   "execution_count": 40,
   "metadata": {},
   "outputs": [],
   "source": [
    "matrix_product = similarities @ unit_vectors\n",
    "assert np.allclose(matrix_product, dot_products)"
   ]
  },
  {
   "cell_type": "markdown",
   "metadata": {},
   "source": [
    "Suppose we were to flip our input matrices, and run `unit_vectors @ similarities`? What will happen? NumPy will throw an error! The computation takes the vector dot product between rows in `unit_vectors` and columns in `similarities`. However, these rows and columns have different lengths. Therefore, the computation is not possible.\n",
    "\n",
    "\n",
    "**Listing 13. 42. Computing an erroneous matrix product**"
   ]
  },
  {
   "cell_type": "code",
   "execution_count": 41,
   "metadata": {},
   "outputs": [
    {
     "name": "stdout",
     "output_type": "stream",
     "text": [
      "We can't compute the matrix product\n"
     ]
    }
   ],
   "source": [
    "try:\n",
    "    matrix_product = unit_vectors @ similarities\n",
    "except:\n",
    "    print(\"We can't compute the matrix product\")"
   ]
  },
  {
   "cell_type": "markdown",
   "metadata": {},
   "source": [
    "In mathematics, the words _product_ and _multiplication_ are often interchangeable. Thus, computing the matrix product is commonly called **matrix multiplication**. That name is so ubiquitous that NumPy includes an `np.matmul` function. The output of `np.matmul(matrix_a, matrix_b)` is identical to `matrix_a @ matrix_b`.\n",
    "\n",
    "**Listing 13. 43. Running matrix multiplication using `matmul`**"
   ]
  },
  {
   "cell_type": "code",
   "execution_count": 42,
   "metadata": {},
   "outputs": [],
   "source": [
    "matrix_product = np.matmul(similarities, unit_vectors)\n",
    "assert np.array_equal(matrix_product,\n",
    "                      similarities @ unit_vectors)"
   ]
  },
  {
   "cell_type": "markdown",
   "metadata": {},
   "source": [
    "Lets compare the matrix-product speed between NumPy and regular Python. We’ll generate 100 matrices, composed entirely of ones. We’ll multiply every matrix by itself, using NumPy and also Python for-loops. We will also time each multiplication using Python’s built-in `time` module. Finally, we’ll plot matrix size vs running-time for our for-loop and our NumPy multiplications.\n",
    "\n",
    "**Listing 13. 44. Comparing matrix product running-times**"
   ]
  },
  {
   "cell_type": "code",
   "execution_count": 43,
   "metadata": {},
   "outputs": [
    {
     "data": {
      "image/png": "[encoded data removed]",
      "text/plain": [
       "<Figure size 432x288 with 1 Axes>"
      ]
     },
     "metadata": {
      "needs_background": "light"
     },
     "output_type": "display_data"
    }
   ],
   "source": [
    "import time\n",
    "\n",
    "numpy_run_times = []\n",
    "for_loop_run_times = []\n",
    "\n",
    "matrix_sizes = range(1, 101)\n",
    "for size in matrix_sizes:\n",
    "    matrix = np.ones((size, size))\n",
    "    \n",
    "    start_time = time.time()\n",
    "    matrix @ matrix\n",
    "    numpy_run_times.append(time.time() - start_time)\n",
    "    \n",
    "    start_time = time.time()\n",
    "    for i in range(size):\n",
    "        for j in range(size):\n",
    "            matrix[i] @ matrix[:,j]\n",
    "            \n",
    "    for_loop_run_times.append(time.time() - start_time)\n",
    "    \n",
    "plt.plot(matrix_sizes, numpy_run_times, \n",
    "         label='NumPy Matrix Product', linestyle='--')\n",
    "plt.plot(matrix_sizes, for_loop_run_times, \n",
    "         label='For-Loop Matrix Product', color='k')\n",
    "plt.xlabel('Row / Column Size')\n",
    "plt.ylabel('Running Time (Seconds)')\n",
    "plt.legend()\n",
    "plt.show()"
   ]
  },
  {
   "cell_type": "markdown",
   "metadata": {},
   "source": [
    "When it comes to matrix multiplication, NumPy greatly outperforms basic Python.  NumPy matrix product code is more efficient to run, and also to write. We will now use NumPy to compute our all-by-all text similarities with maximum efficiency.\n",
    "\n",
    "### 13.3.2. Computing All-By-All Matrix Similarities\n",
    "\n",
    "Running, `unit_vectors @ unit_vectors.T` returns a matrix of all-by-cosine similarities. The matrix should equal our previously computed `cosine_similarites` array. Lets confirm.\n",
    "\n",
    "**Listing 13. 45. Obtaining cosines from a matrix product**"
   ]
  },
  {
   "cell_type": "code",
   "execution_count": 44,
   "metadata": {},
   "outputs": [],
   "source": [
    "cosine_matrix = unit_vectors @ unit_vectors.T\n",
    "assert np.allclose(cosine_matrix, cosine_similarities)"
   ]
  },
  {
   "cell_type": "markdown",
   "metadata": {},
   "source": [
    "Each element in `cosine_matrix` equals the cosine of the the angle between 2 vectorized texts. That cosine can be transformed into a Tanimoto value, which generally reflects word overlap and divergence between texts. Using NumPy arithmetic, we can convert `cosine_matrix` into a Tanimoto similarity matrix, by running `cosine_matrix / (2 - cosine_matrix)`.\n",
    "\n",
    "**Listing 13. 46. Converting cosines to a Tanimoto matrix**"
   ]
  },
  {
   "cell_type": "code",
   "execution_count": 45,
   "metadata": {},
   "outputs": [],
   "source": [
    "tanimoto_matrix = cosine_matrix / (2 - cosine_matrix)\n",
    "assert np.allclose(tanimoto_matrix, similarities)"
   ]
  },
  {
   "cell_type": "markdown",
   "metadata": {},
   "source": [
    "We've compute all the Tanimoto similarities in just 2 lines of code. We can also compute these similarities by inputting `unit_vectors` and `unit_vectors.T` directly into our `normalized_tanimoto` function.\n",
    "\n",
    "**Listing 13. 47. Inputting matrices into `normalized_tanimoto`**"
   ]
  },
  {
   "cell_type": "code",
   "execution_count": 46,
   "metadata": {},
   "outputs": [],
   "source": [
    "output = normalized_tanimoto(unit_vectors, unit_vectors.T)\n",
    "assert np.array_equal(output, tanimoto_matrix)"
   ]
  },
  {
   "cell_type": "markdown",
   "metadata": {},
   "source": [
    "== 13.4. Computational Limits of Matrix Multiplication\n",
    "\n",
    "Matrix multiplication speed is determined by matrix-size. NumPy may optimize for speed, but even NumPy has its limits. These limits become obvious when we compute real-world text-matrix products.\n",
    "\n",
    "Lets assume that 30 novels require a shared vocabulary containing 30,000 words. Furthermore, lets assume we take all-by-all similarity across the 30 books, How long will it take to compute these similarities? Lets find out! We'll create a 30-book by 50,000-word `book_matrix`. All rows within the matrix will be normalized. Afterwards, we'll measure the running-time of `normalized_tanimoto(book_matrix, book_matrix.T)`.\n",
    "\n",
    "**Listing 13. 48. Timing an all-by-all comparison of 30 novels**"
   ]
  },
  {
   "cell_type": "code",
   "execution_count": 47,
   "metadata": {},
   "outputs": [
    {
     "name": "stdout",
     "output_type": "stream",
     "text": [
      "It took 0.0048 seconds to compute the similarities across a 30-book by 50000-word matrix\n"
     ]
    }
   ],
   "source": [
    "vocabulary_size = 50000\n",
    "normalized_vector = [1 / vocabulary_size] * vocabulary_size\n",
    "book_count = 30\n",
    "\n",
    "def measure_run_time(book_count):\n",
    "    book_matrix = np.array([normalized_vector] * book_count)\n",
    "    start_time = time.time()\n",
    "    normalized_tanimoto(book_matrix, book_matrix.T)\n",
    "    return time.time() - start_time\n",
    "\n",
    "run_time = measure_run_time(book_count)\n",
    "print(f\"It took {run_time:.4f} seconds to compute the similarities across a \"\n",
    "      f\"{book_count}-book by {vocabulary_size}-word matrix\")"
   ]
  },
  {
   "cell_type": "markdown",
   "metadata": {},
   "source": [
    "Will the running-time stay reasonable as the number of analyzed books continues to rise? Lets check below. We'll plot the running-times across multiple book-counts. The counts will range from 30 to nearly 1,000. For consistency's sake, we'll keep the vocabulary-size at 50,000.\n",
    "\n",
    "**Listing 13. 49. Plotting book-counts vs running-times**"
   ]
  },
  {
   "cell_type": "code",
   "execution_count": 48,
   "metadata": {},
   "outputs": [
    {
     "data": {
      "image/png": "[encoded data removed]",
      "text/plain": [
       "<Figure size 432x288 with 1 Axes>"
      ]
     },
     "metadata": {
      "needs_background": "light"
     },
     "output_type": "display_data"
    }
   ],
   "source": [
    "book_counts = range(30, 1000, 30)\n",
    "run_times = [measure_run_time(book_count) \n",
    "             for book_count in book_counts]    \n",
    "plt.scatter(book_counts, run_times)\n",
    "plt.xlabel('Book Count')\n",
    "plt.ylabel('Running Time (Seconds)')\n",
    "plt.show()"
   ]
  },
  {
   "cell_type": "markdown",
   "metadata": {},
   "source": [
    "The similarity running-time rises quadratically with book-counts. Our plotted curve takes on a parabolic shape defined by `y = n * (x ** 2)`.\n",
    "\n",
    "**Listing 13. 50. Modeling running-times using a quadratic curve**"
   ]
  },
  {
   "cell_type": "code",
   "execution_count": 49,
   "metadata": {},
   "outputs": [
    {
     "data": {
      "image/png": "[encoded data removed]",
      "text/plain": [
       "<Figure size 432x288 with 1 Axes>"
      ]
     },
     "metadata": {
      "needs_background": "light"
     },
     "output_type": "display_data"
    }
   ],
   "source": [
    "def y(x): return (0.27 / (1000 ** 2)) * (x ** 2)\n",
    "plt.scatter(book_counts, run_times)\n",
    "plt.plot(book_counts, y(np.array(book_counts)), c='k')\n",
    "plt.xlabel('Book Count')\n",
    "plt.ylabel('Running Time (Seconds)')\n",
    "plt.show()"
   ]
  },
  {
   "cell_type": "markdown",
   "metadata": {},
   "source": [
    "Our plotted equation overlaps with the measured times. Thusly, we can use the equation the to predict the speed of larger book comparisons. Lets see how long it will take to measure the similarity across 300,000 books.\n",
    "\n",
    "**Listing 13. 51. Predicting the running-time for 300K books**"
   ]
  },
  {
   "cell_type": "code",
   "execution_count": 50,
   "metadata": {},
   "outputs": [
    {
     "name": "stdout",
     "output_type": "stream",
     "text": [
      "It will take 6.75 hours to compute all-by-all similarities from a 300000-book by 50000-word matrix\n"
     ]
    }
   ],
   "source": [
    "book_count = 300000\n",
    "run_time = y(book_count) / 3600\n",
    "print(f\"It will take {run_time} hours to compute all-by-all similarities \"\n",
    "      f\"from a {book_count}-book by {vocabulary_size}-word matrix\")"
   ]
  },
  {
   "cell_type": "markdown",
   "metadata": {},
   "source": [
    "It will take nearly 7 hours to compare 300,000 books. This delay in time is not acceptable, especially in industrial NLP systems, which are designed to process millions of texts in mere seconds. We need to somehow reduce the running-time. One approach is to reduce the matrix-size."
   ]
  }
 ],
 "metadata": {
  "kernelspec": {
   "display_name": "Python 3",
   "language": "python",
   "name": "python3"
  },
  "language_info": {
   "codemirror_mode": {
    "name": "ipython",
    "version": 3
   },
   "file_extension": ".py",
   "mimetype": "text/x-python",
   "name": "python",
   "nbconvert_exporter": "python",
   "pygments_lexer": "ipython3",
   "version": "3.8.3"
  }
 },
 "nbformat": 4,
 "nbformat_minor": 4
}
