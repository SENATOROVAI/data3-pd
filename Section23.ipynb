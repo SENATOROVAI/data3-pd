{
 "cells": [
  {
   "cell_type": "code",
   "execution_count": 1,
   "metadata": {},
   "outputs": [],
   "source": [
    "import warnings\n",
    "warnings.filterwarnings('ignore')"
   ]
  },
  {
   "cell_type": "markdown",
   "metadata": {},
   "source": [
    "# 20 Case Study 5 Solution\n",
    "\n",
    "# 20. 1 Exploring the Data\n",
    "\n",
    "Let's separately explore the _Profiles_, _Observations_ and _Friendships_ tables.\n",
    "\n",
    "### 20.1.1 Examining the Profiles\n",
    "We'll start by loading the _Profiles_ table into Pandas and summarizing the table's contents.\n",
    "\n",
    "**Listing 23. 1. Loading the Profiles table**"
   ]
  },
  {
   "cell_type": "code",
   "execution_count": 2,
   "metadata": {},
   "outputs": [
    {
     "name": "stdout",
     "output_type": "stream",
     "text": [
      "The table contains 4039 rows and 6 columns.\n",
      "Table Summary:\n",
      "\n",
      "          Profile_ID           Sex Relationship_Status          Dorm         Major          Year\n",
      "count           4039          4039                3631          4039          4039          4039\n",
      "unique          4039             2                   3            15            30             4\n",
      "top     6e0b386157c4  e807eb960650        ac0b88e46e20  a8e6e404d1b3  141d4cdd5aaf  c1a648750a4b\n",
      "freq               1          2020                1963          2739          1366          1796\n"
     ]
    }
   ],
   "source": [
    "import pandas as pd\n",
    "\n",
    "def summarize_table(df):\n",
    "    n_rows, n_columns = df.shape\n",
    "    summary = df.describe()\n",
    "    print(f\"The table contains {n_rows} rows and {n_columns} columns.\")\n",
    "    print(\"Table Summary:\\n\")\n",
    "    print(summary.to_string())\n",
    "\n",
    "df_profile = pd.read_csv('friendhook/Profiles.csv')\n",
    "summarize_table(df_profile)"
   ]
  },
  {
   "cell_type": "markdown",
   "metadata": {},
   "source": [
    "There is one place in the table summary where the numbers are off; the _Relationship Status_ column. Pandas has detected three _Relationship Status_ categories across 3631 of 4039 table rows. The remaining 400 or so rows are null. They don't contain any assigned relationship status. Lets count the total number of empty rows.\n",
    "\n",
    "**Listing 23. 2. Counting empty Relationship Status profiles**"
   ]
  },
  {
   "cell_type": "code",
   "execution_count": 3,
   "metadata": {},
   "outputs": [
    {
     "name": "stdout",
     "output_type": "stream",
     "text": [
      "408 profiles are missing the Relationship Status field.\n"
     ]
    }
   ],
   "source": [
    "is_null = df_profile.Relationship_Status.isnull()\n",
    "num_null = df_profile[is_null].shape[0]\n",
    "print(f\"{num_null} profiles are missing the Relationship Status field.\")"
   ]
  },
  {
   "cell_type": "markdown",
   "metadata": {},
   "source": [
    "408 profiles do not contain a listed relationship status.  We can treat the lack of status as a fourth _unspecified_ relationship status category. Hence, we should assign these rows a category id. What id value should we choose? Before we answer the question, lets examine all unique ids within the _Relationship Status_ column.\n",
    "\n",
    "**Listing 23. 3. Checking unique Relationship Status values**"
   ]
  },
  {
   "cell_type": "code",
   "execution_count": 4,
   "metadata": {},
   "outputs": [
    {
     "name": "stdout",
     "output_type": "stream",
     "text": [
      "{nan, 'ac0b88e46e20', '9cea719429e9', '188f9a32c360'}\n"
     ]
    }
   ],
   "source": [
    "unique_ids = set(df_profile.Relationship_Status.values)\n",
    "print(unique_ids)"
   ]
  },
  {
   "cell_type": "markdown",
   "metadata": {},
   "source": [
    "The Scikit-Learn library is unable to process hash-codes or null values. It can only process numbers. Hence, we'll need to eventually convert the categories to numeric values. \n",
    "\n",
    "**Listing 23. 4. Mapping Relationship Status values to numbers**"
   ]
  },
  {
   "cell_type": "code",
   "execution_count": 5,
   "metadata": {},
   "outputs": [],
   "source": [
    "import numpy as np\n",
    "category_map = {'9cea719429e9': 0, np.nan: 1, '188f9a32c360': 2, \n",
    "                'ac0b88e46e20': 3}"
   ]
  },
  {
   "cell_type": "markdown",
   "metadata": {},
   "source": [
    "Next, we'll replace the contents of the _Relationship Status_ column with the appropriate numeric values.\n",
    "\n",
    "**Listing 23. 5. Updating the Relationship Status column**"
   ]
  },
  {
   "cell_type": "code",
   "execution_count": 6,
   "metadata": {},
   "outputs": [
    {
     "name": "stdout",
     "output_type": "stream",
     "text": [
      "0       0\n",
      "1       3\n",
      "2       3\n",
      "3       3\n",
      "4       0\n",
      "       ..\n",
      "4034    3\n",
      "4035    0\n",
      "4036    3\n",
      "4037    3\n",
      "4038    0\n",
      "Name: Relationship_Status, Length: 4039, dtype: int64\n"
     ]
    }
   ],
   "source": [
    "nums = [category_map[hash_code] \n",
    "        for hash_code in df_profile.Relationship_Status.values]\n",
    "df_profile['Relationship_Status'] = nums\n",
    "print(df_profile.Relationship_Status)"
   ]
  },
  {
   "cell_type": "markdown",
   "metadata": {},
   "source": [
    "We've transformed _Relationship Status_ into a numeric variable. However, the remaining five columns in the table still contain hash-codes. Let's create a category mapping between hash-codes and numbers in each column. We'll track the category mappings in each column with a `col_to_mapping` dictionary. We'll also leverage the mappings in order to replace all hash-codes with numbers in `df_profile`.\n",
    "\n",
    "**Listing 23. 6. Replacing all Profile hash-codes with numeric values**"
   ]
  },
  {
   "cell_type": "code",
   "execution_count": 7,
   "metadata": {},
   "outputs": [
    {
     "name": "stdout",
     "output_type": "stream",
     "text": [
      " Profile_ID  Sex  Relationship_Status  Dorm  Major  Year\n",
      "       2899    0                    0     5     13     2\n",
      "       1125    0                    3    12      6     1\n",
      "       3799    0                    3    12     29     2\n",
      "       3338    0                    3     4     25     0\n",
      "       2007    1                    0    12      2     0\n"
     ]
    }
   ],
   "source": [
    "col_to_mapping = {'Relationship_Status': category_map}\n",
    "\n",
    "for column in df_profile.columns:\n",
    "    if column in col_to_mapping:\n",
    "        continue\n",
    "        \n",
    "    unique_ids = sorted(set(df_profile[column].values))\n",
    "    category_map = {id_: i for i, id_ in enumerate(unique_ids)}\n",
    "    col_to_mapping[column] = category_map\n",
    "    nums = [category_map[hash_code] \n",
    "            for hash_code in df_profile[column].values]\n",
    "    df_profile[column] = nums\n",
    "\n",
    "head = df_profile.head()\n",
    "print(head.to_string(index=False))"
   ]
  },
  {
   "cell_type": "markdown",
   "metadata": {},
   "source": [
    "We've finished tweaking the `df_profile`. Now lets turn our attention to the table of experimental observations.\n",
    "\n",
    "### 23.1.2 Exploring the Experimental Observations\n",
    "We'll start by loading the _Observations_ table into Pandas and summarizing the table's contents.\n",
    "\n",
    "**Listing 23. 7. Loading the Observations table**"
   ]
  },
  {
   "cell_type": "code",
   "execution_count": 9,
   "metadata": {},
   "outputs": [
    {
     "name": "stdout",
     "output_type": "stream",
     "text": [
      "The table contains 4039 rows and 5 columns.\n",
      "Table Summary:\n",
      "\n",
      "          Profile_ID Selected_Friend Selected_Friend_of_Friend Friend_Request_Sent Friend_Request_Accepted\n",
      "count           4039            4039                      4039                4039                    4039\n",
      "unique          4039            2219                      2327                   2                       2\n",
      "top     6e0b386157c4    89581f99fa1e              6caa597f13cc                True                    True\n",
      "freq               1              77                        27                2519                    2460\n"
     ]
    }
   ],
   "source": [
    "df_obs = pd.read_csv('friendhook/Observations.csv')\n",
    "summarize_table(df_obs)"
   ]
  },
  {
   "cell_type": "markdown",
   "metadata": {},
   "source": [
    "The five table columns all consistantly show 4039 filled rows. There are no empty values in the table. This is good. However, the actual column names are hard to read. The names are very descriptive, but also very long. We should shorten some of the names in order to ease our cognitive load. \n",
    "\n",
    "**Listing 23. 8. Renaming the observation columns**"
   ]
  },
  {
   "cell_type": "code",
   "execution_count": 10,
   "metadata": {},
   "outputs": [
    {
     "name": "stdout",
     "output_type": "stream",
     "text": [
      "The table contains 4039 rows and 5 columns.\n",
      "Table Summary:\n",
      "\n",
      "          Profile_ID        Friend           FoF  Sent Accepted\n",
      "count           4039          4039          4039  4039     4039\n",
      "unique          4039          2219          2327     2        2\n",
      "top     6e0b386157c4  89581f99fa1e  6caa597f13cc  True     True\n",
      "freq               1            77            27  2519     2460\n"
     ]
    }
   ],
   "source": [
    "new_names = {'Selected_Friend': 'Friend', \n",
    "             'Selected_Friend_of_Friend': 'FoF',\n",
    "             'Friend_Request_Sent': 'Sent',\n",
    "             'Friend_Request_Accepted': 'Accepted'}\n",
    "df_obs = df_obs.rename(columns=new_names)\n",
    "summarize_table(df_obs)"
   ]
  },
  {
   "cell_type": "markdown",
   "metadata": {},
   "source": [
    "Approximately 62% (2519) of the friend suggestions lead to friend request being sent. This is very promising; the friend-of-a-friend suggestions are quite effective. Furthermore, approximately 60% (2460) of sampled instances led to a friend request getting accepted. Hence, the sent friend requests are ignored or rejected just 2% (2519 - 2460 = 50) of the time. Of course, our numbers assume that there are no observations where _Sent_ is False and _Accepted_ is True. This scenario is not possible, because a friend-request cannot be accepted if it has not yet been sent. Still, as sanity check, lets test the integrity of the data by confirm that the scenario does not take place.\n",
    "\n",
    "**Listing 23. 9. Ensuring that Sent is `True` for all accepted requests**"
   ]
  },
  {
   "cell_type": "code",
   "execution_count": 11,
   "metadata": {},
   "outputs": [],
   "source": [
    "condition = (df_obs.Sent == False) & (df_obs.Accepted == True)\n",
    "assert not df_obs[condition].shape[0]"
   ]
  },
  {
   "cell_type": "markdown",
   "metadata": {},
   "source": [
    "Based on our observations, user behavior follows three possible scenarios. Hence, we can encode this categorical behavior by assigning numbers `0`, `1`, and `2` to the behavior patterns.\n",
    "\n",
    "**Listing 23. 10. Assigning classes of behavior to the user observations**"
   ]
  },
  {
   "cell_type": "code",
   "execution_count": 12,
   "metadata": {},
   "outputs": [],
   "source": [
    "behaviors = []\n",
    "for sent, accepted in df_obs[['Sent', 'Accepted']].values:\n",
    "    behavior = 2 if (sent and not accepted) else int(sent) * int(accepted)\n",
    "    behaviors.append(behavior)\n",
    "df_obs['Behavior'] = behaviors"
   ]
  },
  {
   "cell_type": "markdown",
   "metadata": {},
   "source": [
    "Additionally, we must transform the profile ids in the first three columns from hash-codes to numeric ids that are consistent with `df_profile.Profile_ID`. \n",
    "\n",
    "**Listing 23. 11. Replacing all Observation hash-codes with numeric values**"
   ]
  },
  {
   "cell_type": "code",
   "execution_count": 12,
   "metadata": {},
   "outputs": [
    {
     "name": "stdout",
     "output_type": "stream",
     "text": [
      " Profile_ID  Friend   FoF   Sent  Accepted  Behavior\n",
      "       2485    2899  2847  False     False         0\n",
      "       2690    2899  3528  False     False         0\n",
      "       3904    2899  3528  False     False         0\n",
      "        709    2899  3403  False     False         0\n",
      "        502    2899   345   True      True         1\n"
     ]
    }
   ],
   "source": [
    "for col in ['Profile_ID', 'Friend', 'FoF']:\n",
    "    nums = [col_to_mapping['Profile_ID'][hash_code]\n",
    "            for hash_code in df_obs[col]]\n",
    "    df_obs[col] = nums\n",
    "\n",
    "head = df_obs.head()\n",
    "print(head.to_string(index=False))"
   ]
  },
  {
   "cell_type": "markdown",
   "metadata": {},
   "source": [
    "The `df_obs` now aligns with `df_profile`. Only a single data table remains unanalyzed. Lets proceed to explore the friendship linkages within the remaining _Friendships_ table.\n",
    "\n",
    "\n",
    "### 23.1.2 Exploring Friendships Linkage Table\n",
    "We'll start by loading the _Friendships_ table into Pandas and summarizing the table's contents.\n",
    "\n",
    "**Listing 23. 12. Loading the Friendships table**"
   ]
  },
  {
   "cell_type": "code",
   "execution_count": 13,
   "metadata": {},
   "outputs": [
    {
     "name": "stdout",
     "output_type": "stream",
     "text": [
      "The table contains 88234 rows and 2 columns.\n",
      "Table Summary:\n",
      "\n",
      "            Friend_A      Friend_B\n",
      "count          88234         88234\n",
      "unique          3646          4037\n",
      "top     89581f99fa1e  97ba93d9b169\n",
      "freq            1043           251\n"
     ]
    }
   ],
   "source": [
    "df_friends = pd.read_csv('friendhook/Friendships.csv')\n",
    "summarize_table(df_friends)"
   ]
  },
  {
   "cell_type": "markdown",
   "metadata": {},
   "source": [
    "In order to carry out a more detailed analysis, we should load the frienship data into a NetworkX graph. \n",
    "\n",
    "**Listing 23. 13. Loading the social graph into NetworkX**"
   ]
  },
  {
   "cell_type": "code",
   "execution_count": 14,
   "metadata": {},
   "outputs": [
    {
     "name": "stdout",
     "output_type": "stream",
     "text": [
      "The social graph contains 4039 nodes.\n"
     ]
    }
   ],
   "source": [
    "import networkx as nx\n",
    "G = nx.Graph()\n",
    "for id1, id2 in df_friends.values:\n",
    "    node1 = col_to_mapping['Profile_ID'][id1]\n",
    "    node2 = col_to_mapping['Profile_ID'][id2]\n",
    "    G.add_edge(node1, node2)\n",
    "    \n",
    "nodes = list(G.nodes)\n",
    "num_nodes = len(nodes)\n",
    "print(f\"The social graph contains {num_nodes} nodes.\")"
   ]
  },
  {
   "cell_type": "markdown",
   "metadata": {},
   "source": [
    "Lets try to gain more insights into the graph structure by visualizing it with `nx.draw`. Please note the graph is rather large, so visulization might take 10-30 seconds to load.\n",
    "\n",
    "**Listing 23. 14. Visualizing the social graph**"
   ]
  },
  {
   "cell_type": "code",
   "execution_count": 15,
   "metadata": {},
   "outputs": [
    {
     "data": {
      "image/png": "[encoded data removed]",
      "text/plain": [
       "<Figure size 432x288 with 1 Axes>"
      ]
     },
     "metadata": {},
     "output_type": "display_data"
    }
   ],
   "source": [
    "import matplotlib.pyplot as plt\n",
    "import numpy as np\n",
    "np.random.seed(0)\n",
    "nx.draw(G, node_size=5)\n",
    "plt.show()"
   ]
  },
  {
   "cell_type": "markdown",
   "metadata": {},
   "source": [
    "Tightly clustered social groups are clearly visible within the network. Lets extract these groups using Markov clustering. \n",
    "\n",
    "**Listing 23. 15. Finding social groups using Markov clustering**"
   ]
  },
  {
   "cell_type": "code",
   "execution_count": 16,
   "metadata": {},
   "outputs": [
    {
     "name": "stdout",
     "output_type": "stream",
     "text": [
      "10 clusters were found in the social graph.\n"
     ]
    }
   ],
   "source": [
    "import markov_clustering as mc\n",
    "matrix = nx.to_scipy_sparse_matrix(G)\n",
    "result = mc.run_mcl(matrix)\n",
    "clusters = mc.get_clusters(result) \n",
    "num_clusters = len(clusters)\n",
    "print(f\"{num_clusters} clusters were found in the social graph.\")"
   ]
  },
  {
   "cell_type": "markdown",
   "metadata": {},
   "source": [
    "Ten clusters were found in the social graph. Lets visualize these clusters by coloring each node based on cluster id. To start, we'll need to iterate over `clusters` and assign a `cluster_id` attribute to every node.\n",
    "\n",
    "**Listing 23. 16. Assigning cluster attributes to nodes**"
   ]
  },
  {
   "cell_type": "code",
   "execution_count": 17,
   "metadata": {},
   "outputs": [],
   "source": [
    "for cluster_id, node_indices in enumerate(clusters):\n",
    "    for i in node_indices:\n",
    "        node = nodes[i]\n",
    "        G.nodes[node]['cluster_id'] = cluster_id"
   ]
  },
  {
   "cell_type": "markdown",
   "metadata": {},
   "source": [
    "Next, we'll color the nodes based on their attribute assignment.\n",
    "\n",
    "**Listing 23. 17. Coloring the nodes by cluster assignment**"
   ]
  },
  {
   "cell_type": "code",
   "execution_count": 18,
   "metadata": {},
   "outputs": [
    {
     "data": {
      "image/png": "[encoded data removed]",
      "text/plain": [
       "<Figure size 432x288 with 1 Axes>"
      ]
     },
     "metadata": {},
     "output_type": "display_data"
    }
   ],
   "source": [
    "np.random.seed(0)\n",
    "colors = [G.nodes[n]['cluster_id'] for n in G.nodes]\n",
    "nx.draw(G, node_size=5, node_color=colors, cmap=plt.cm.tab20)\n",
    "plt.show()"
   ]
  },
  {
   "cell_type": "markdown",
   "metadata": {},
   "source": [
    "The cluster colors clearly correspond to tight social groups. Our clustering thus has been effective. Hence, the assigned `cluster_id` attributes should prove useful during the model-building process. In this same manner, it might be useful to store all five profile features as attributes within the student nodes. \n",
    "\n",
    "**Listing 23. 18. Assigning profile attributes to nodes**"
   ]
  },
  {
   "cell_type": "code",
   "execution_count": 19,
   "metadata": {},
   "outputs": [
    {
     "name": "stdout",
     "output_type": "stream",
     "text": [
      "Attributes of node 2899:\n",
      "{'cluster_id': 0, 'Sex': 0, 'Relationship_Status': 0, 'Dorm': 5, 'Major': 13, 'Year': 2}\n"
     ]
    }
   ],
   "source": [
    "attribute_names = df_profile.columns\n",
    "for attributes in df_profile.values:\n",
    "    profile_id = attributes[0]\n",
    "    for name, att in zip(attribute_names[1:], attributes[1:]):\n",
    "        G.nodes[profile_id][name] = att\n",
    "        \n",
    "first_node = nodes[0]\n",
    "print(f\"Attributes of node {first_node}:\")\n",
    "print(G.nodes[first_node])"
   ]
  },
  {
   "cell_type": "markdown",
   "metadata": {},
   "source": [
    "We have finished exploring our input data. Now, we'll proceed to train a model that predicts user behavior. We'll start by constructing simple model that only utilizes network features.\n",
    "\n",
    "## 23. 2 Training a Predictive Model Using Network Features\n",
    "\n",
    "Our goal is to train a supervised ML model on our dataset, in order to predict user behavior. Currently, all possible classes of behavior are stored within  the _Behavior_ columns of `df_obs`. We'll assign our training class-label array to equal the `df_obs.Behavior` column.\n",
    "\n",
    "**Listing 23. 19. Assigning the class-label array `y`**"
   ]
  },
  {
   "cell_type": "code",
   "execution_count": 20,
   "metadata": {},
   "outputs": [
    {
     "name": "stdout",
     "output_type": "stream",
     "text": [
      "[0 0 0 ... 1 1 1]\n"
     ]
    }
   ],
   "source": [
    "y = df_obs.Behavior.values\n",
    "print(y)"
   ]
  },
  {
   "cell_type": "markdown",
   "metadata": {},
   "source": [
    "Now that we have class-labels, we'll need to create a feature-matrix `X`. Let's create an initial version of `X`, and populate it with some very basic features. The simplest question we can ask about a person within a social network is this; how many friends does the person have? Of course, that value equals edge-count associated with the person's node within the social graph. Lets make the edge-count our first feature in the feature-matrix. We'll iterate over all the rows in `df_obs` and assign an edge-count to each profile that's referenced within each row. \n",
    "\n",
    "**Listing 23. 20. Creating a feature-matrix from edge counts**"
   ]
  },
  {
   "cell_type": "code",
   "execution_count": 21,
   "metadata": {},
   "outputs": [],
   "source": [
    "cols = ['Profile_ID', 'Friend', 'FoF']\n",
    "features = {f'{col}_Edge_Count': [] for col in cols}\n",
    "for node_ids in df_obs[cols].values:\n",
    "    for node, feature_name in zip(node_ids, features.keys()):\n",
    "        degree = G.degree(node)\n",
    "        features[feature_name].append(degree)\n",
    "\n",
    "df_features = pd.DataFrame(features)\n",
    "X = df_features.values"
   ]
  },
  {
   "cell_type": "markdown",
   "metadata": {},
   "source": [
    "Lets quickly check the quality of the signal in the training data by training and testing a simple model. We have multiple possible models to choose from. One sensible choice is a decision tree classifier. Decision trees can handle non-linear decision boundaries and are easily interpretable. \n",
    "\n",
    "**Listing 23. 21. Training and evaluating a Decision tree classifier**"
   ]
  },
  {
   "cell_type": "code",
   "execution_count": 22,
   "metadata": {},
   "outputs": [
    {
     "name": "stdout",
     "output_type": "stream",
     "text": [
      "The f-measure is 0.37\n"
     ]
    }
   ],
   "source": [
    "np.random.seed(0)\n",
    "from sklearn.tree import DecisionTreeClassifier\n",
    "from sklearn.model_selection import train_test_split\n",
    "from sklearn.metrics import f1_score\n",
    "\n",
    "def evaluate(X, y, model_type=DecisionTreeClassifier, **kwargs):\n",
    "    np.random.seed(0)\n",
    "    X_train, X_test, y_train, y_test = train_test_split(X, y)\n",
    "    clf = model_type(**kwargs)\n",
    "    clf.fit(X_train, y_train)\n",
    "    pred = clf.predict(X_test)\n",
    "    f_measure = f1_score(pred, y_test, average='macro')\n",
    "    return f_measure, clf\n",
    "\n",
    "f_measure, clf = evaluate(X, y)\n",
    "print(f\"The f-measure is {f_measure:0.2f}\")"
   ]
  },
  {
   "cell_type": "markdown",
   "metadata": {},
   "source": [
    "Our f-measure is terrible! Clearly, friend-count by itself is not a sufficient signal for predicting user-behavior. Perhaps adding PageRank values to our training set will yield improved results? \n",
    "\n",
    "**Listing 23. 22. Adding PageRank features**"
   ]
  },
  {
   "cell_type": "code",
   "execution_count": 23,
   "metadata": {},
   "outputs": [
    {
     "name": "stdout",
     "output_type": "stream",
     "text": [
      "The f-measure is 0.38\n"
     ]
    }
   ],
   "source": [
    "np.random.seed(0)\n",
    "node_to_pagerank = nx.pagerank(G)\n",
    "features = {f'{col}_PageRank': [] for col in cols}\n",
    "for node_ids in df_obs[cols].values:\n",
    "    for node, feature_name in zip(node_ids, features.keys()):\n",
    "        pagerank = node_to_pagerank[node]\n",
    "        features[feature_name].append(pagerank)\n",
    "\n",
    "def update_features(new_features):\n",
    "    for feature_name, values in new_features.items():\n",
    "        df_features[feature_name] = values\n",
    "    return df_features.values\n",
    "\n",
    "X = update_features(features)\n",
    "f_measure, clf = evaluate(X, y)\n",
    "\n",
    "print(f\"The f-measure is {f_measure:0.2f}\")"
   ]
  },
  {
   "cell_type": "markdown",
   "metadata": {},
   "source": [
    "The f-measure remains approximately the same. Basic centrality measures are insufficient. We need to expand `X` to include the social groups uncovered by Markov Clustering.  One approach is just consider the following binary question; are two people in the same social group? Yes or no? If they are, then perhaps they are more likely to eventually become friends on FriendHook. We can make this binary comparison between each pair of profile-ids within a single row of observations. \n",
    "\n",
    "**Listing 23. 23. Adding social group features**"
   ]
  },
  {
   "cell_type": "code",
   "execution_count": 24,
   "metadata": {},
   "outputs": [
    {
     "name": "stdout",
     "output_type": "stream",
     "text": [
      "The f-measure is 0.43\n"
     ]
    }
   ],
   "source": [
    "np.random.seed(0)\n",
    "features = {f'Shared_Cluster_{e}': []\n",
    "            for e in ['id_f', 'id_fof', 'f_fof']}\n",
    "\n",
    "i = 0\n",
    "for node_ids in df_obs[cols].values:\n",
    "    c_id, c_f, c_fof = [G.nodes[n]['cluster_id'] \n",
    "                        for n in node_ids]\n",
    "    features['Shared_Cluster_id_f'].append(int(c_id == c_f))\n",
    "    features['Shared_Cluster_id_fof'].append(int(c_id == c_fof))\n",
    "    features['Shared_Cluster_f_fof'].append(int(c_f == c_fof))\n",
    "    \n",
    "X = update_features(features)\n",
    "f_measure, clf = evaluate(X, y)\n",
    "print(f\"The f-measure is {f_measure:0.2f}\") "
   ]
  },
  {
   "cell_type": "markdown",
   "metadata": {},
   "source": [
    "Our f-measure has noticeably improved, from 0.38 to 0.43. Perfomance is still poor. Nonetheless, the social group inclusion has led a slight enhacement of our model. How important are the new social group features relative the model's current perfomance? We can find check, using the `feature_importance_` attribute of our trained classifier.\n",
    "\n",
    "**Listing 23. 24. Ranking features by their importance score**"
   ]
  },
  {
   "cell_type": "code",
   "execution_count": 25,
   "metadata": {},
   "outputs": [
    {
     "name": "stdout",
     "output_type": "stream",
     "text": [
      "Shared_Cluster_id_fof: 0.18\n",
      "FoF_PageRank: 0.17\n",
      "Profile_ID_PageRank: 0.17\n",
      "Friend_PageRank: 0.15\n",
      "FoF_Edge_Count: 0.12\n",
      "Profile_ID_Edge_Count: 0.11\n",
      "Friend_Edge_Count: 0.10\n"
     ]
    }
   ],
   "source": [
    "def view_top_features(clf, feature_names):\n",
    "    for i in np.argsort(clf.feature_importances_)[::-1]:\n",
    "        feature_name = feature_names[i]\n",
    "        importance = clf.feature_importances_[i]\n",
    "        if not round(importance, 2):\n",
    "            break\n",
    "            \n",
    "        print(f\"{feature_name}: {importance:0.2f}\")\n",
    "feature_names = df_features.columns\n",
    "view_top_features(clf, feature_names)"
   ]
  },
  {
   "cell_type": "markdown",
   "metadata": {},
   "source": [
    "Social graph centrality plays some role in friendship determination. Of course, our model's performance is still poor, so we should be cautious with our inferences on how the features drive predictions.  What other graph-based features could we utilize? Perhaps the network cluster size can impact the predictions? We can find out. However, we should be cautious in our efforts to keep our model generalizable. Cluster size can inexplicably take the place of cluster-id, making the model very specific to the university. \n",
    "\n",
    "**Listing 23. 25. Adding cluster-size features**"
   ]
  },
  {
   "cell_type": "code",
   "execution_count": 26,
   "metadata": {},
   "outputs": [
    {
     "name": "stdout",
     "output_type": "stream",
     "text": [
      "The f-measure is 0.43\n"
     ]
    }
   ],
   "source": [
    "np.random.seed(0)\n",
    "cluster_sizes = [len(cluster) for cluster in clusters]\n",
    "features = {f'{col}_Cluster_Size': [] for col in cols}\n",
    "for node_ids in df_obs[cols].values:\n",
    "    for node, feature_name in zip(node_ids, features.keys()):\n",
    "        c_id = G.nodes[node]['cluster_id']\n",
    "        features[feature_name].append(cluster_sizes[c_id])\n",
    "    \n",
    "X = update_features(features)\n",
    "f_measure, clf = evaluate(X, y)\n",
    "print(f\"The f-measure is {f_measure:0.2f}\")"
   ]
  },
  {
   "cell_type": "markdown",
   "metadata": {},
   "source": [
    "The cluster did not improve the model. As a precaution, lets delete it from our feature set.\n",
    "\n",
    "**Listing 23. 26. Deleting cluster-size features**"
   ]
  },
  {
   "cell_type": "code",
   "execution_count": 27,
   "metadata": {},
   "outputs": [],
   "source": [
    "import re\n",
    "def delete_features(df_features, regex=r'Cluster_Size'):\n",
    "    \n",
    "    df_features.drop(columns=[name for name in df_features.columns\n",
    "                               if re.search(regex, name)], inplace=True)\n",
    "    return df_features.values\n",
    "\n",
    "X = delete_features(df_features)"
   ]
  },
  {
   "cell_type": "markdown",
   "metadata": {},
   "source": [
    "The f-measure remains at 0.43. Perhaps we should try thinking outside the box. In what ways can social connections drive real world-behavior? Consider the following scenario. Suppose we analyze a student named Alex, whose node id in network `G` is `n`. Alex has 50 FriendHook friends. These are accessible through `G[n]`. We randomly sample two of the friends in `G[n]`. Their node ids are `a` and `b`. We then check if `a` and `b` are friends. They are! It seems that `a` is in `list(G[n])`. We then repeat this 100 times. In 95% percent of sampled instances, `a` is friend of `b`. Basically, there's a 95% likelihood that any pair of Alex's friends are also friends with each other. We'll refer to this probability as the **friend-sharing likelihood**.  Lets try incorporating this likelihood into our features. We'll start by computing the likehood for every node in `G`. \n",
    "\n",
    "**Listing 23. 27. Computing friend-sharing likelihoods**"
   ]
  },
  {
   "cell_type": "code",
   "execution_count": 28,
   "metadata": {},
   "outputs": [],
   "source": [
    "friend_sharing_likelihood = {}\n",
    "for node in nodes:\n",
    "    neighbors = list(G[node])\n",
    "    friendship_count = 0\n",
    "    total_possible = 0\n",
    "    for i, node1 in enumerate(neighbors[:-1]):\n",
    "        for node2 in neighbors[i + 1:]:\n",
    "            if node1 in G[node2]:\n",
    "                friendship_count += 1\n",
    "                \n",
    "            total_possible += 1\n",
    "    \n",
    "    prob = friendship_count / total_possible if total_possible else 0\n",
    "    friend_sharing_likelihood[node] = prob"
   ]
  },
  {
   "cell_type": "markdown",
   "metadata": {},
   "source": [
    "Next, we'll generate a friend-sharing likelihood feature for each of our three profile ids. After adding the features, we'll re-valuate the trained model's performance.\n",
    "\n",
    "**Listing 23. 28. Adding friend-sharing likelihood features**"
   ]
  },
  {
   "cell_type": "code",
   "execution_count": 29,
   "metadata": {},
   "outputs": [
    {
     "name": "stdout",
     "output_type": "stream",
     "text": [
      "The f-measure is 0.49\n"
     ]
    }
   ],
   "source": [
    "np.random.seed(0)\n",
    "features = {f'{col}_Friend_Sharing_Likelihood': [] for col in cols}\n",
    "for node_ids in df_obs[cols].values:\n",
    "    for node, feature_name in zip(node_ids, features.keys()):\n",
    "        sharing_likelihood = friend_sharing_likelihood[node]\n",
    "        features[feature_name].append(sharing_likelihood)\n",
    "\n",
    "X = update_features(features)\n",
    "f_measure, clf = evaluate(X, y)\n",
    "print(f\"The f-measure is {f_measure:0.2f}\")"
   ]
  },
  {
   "cell_type": "markdown",
   "metadata": {},
   "source": [
    "Performance has increased from 0.43 to 0.49! It's still not great, but its progressively getting better. How does the friend-sharing likelihood compare to other features in the model? Lets find out!\n",
    "\n",
    "**Listing 23. 29. Ranking features by their importance score**"
   ]
  },
  {
   "cell_type": "code",
   "execution_count": 30,
   "metadata": {},
   "outputs": [
    {
     "name": "stdout",
     "output_type": "stream",
     "text": [
      "Shared_Cluster_id_fof: 0.18\n",
      "Friend_Friend_Sharing_Likelihood: 0.13\n",
      "FoF_PageRank: 0.11\n",
      "Profile_ID_PageRank: 0.11\n",
      "Profile_ID_Friend_Sharing_Likelihood: 0.10\n",
      "FoF_Friend_Sharing_Likelihood: 0.10\n",
      "FoF_Edge_Count: 0.08\n",
      "Friend_PageRank: 0.07\n",
      "Profile_ID_Edge_Count: 0.07\n",
      "Friend_Edge_Count: 0.06\n"
     ]
    }
   ],
   "source": [
    "feature_names = df_features.columns\n",
    "view_top_features(clf, feature_names)"
   ]
  },
  {
   "cell_type": "markdown",
   "metadata": {},
   "source": [
    "One of our new features ranks quite highly.Nonetheless, the model is incomplete. An f-measure of 0.49 is not acceptable. We need to incorporate features from the profiles stored within `df_profiles`.\n",
    "\n",
    "## 23. 3 Adding Profile Features to the Model\n",
    "\n",
    "\n",
    "Our aim is to incorporate the profile attributes of _Sex_, _Relationship_Status_, _Major_, _Dorm_ and _Year_ into our feature matrix. Based on our experience with the network data, there are three ways in which we can do this:\n",
    "1. Exact Value Extraction.\n",
    "    * We can store the exact value of the profile feature associated with each of the three profile-id columns in `df_obs`.\n",
    "   \n",
    "2. Equivalence Comparison\n",
    "    * Given a profile attribute, we can carry-out a pairwise comparison of the attribute across all three profile-id columns in `df_obs`. For each comparison we would return a boolean feature demarcating whether the attribute is equal within the two columns.\n",
    "   \n",
    "3. Size:\n",
    "    * Given a profile attribute, we can return the number of profiles that share that attribute.\n",
    "  \n",
    "    \n",
    "Let's apply Exact Value Extraction to _Sex_, _Relationship_Status_ and _Year_. \n",
    "\n",
    "**Listing 23. 30. Adding exact-value profile features**"
   ]
  },
  {
   "cell_type": "code",
   "execution_count": 31,
   "metadata": {},
   "outputs": [
    {
     "name": "stdout",
     "output_type": "stream",
     "text": [
      "The f-measure is 0.74\n"
     ]
    }
   ],
   "source": [
    "attributes = ['Sex', 'Relationship_Status', 'Year']\n",
    "for attribute in attributes:\n",
    "    features = {f'{col}_{attribute}_Value': [] for col in cols}\n",
    "    for node_ids in df_obs[cols].values:\n",
    "        for node, feature_name in zip(node_ids, features.keys()):\n",
    "            att_value = G.nodes[node][attribute]\n",
    "            features[feature_name].append(att_value)\n",
    "    \n",
    "    X = update_features(features)\n",
    "    \n",
    "f_measure, clf = evaluate(X, y)\n",
    "print(f\"The f-measure is {f_measure:0.2f}\") "
   ]
  },
  {
   "cell_type": "markdown",
   "metadata": {},
   "source": [
    "Wow! The f-measure dramatically increased from 0.49 to 0.74! The profile features have provided a very valuable signal, but we can still do better. We need to incorporate information from the _Major_ and _Dorm_ attributes. Equivalence Comparison is an excellent way to do this.\n",
    "\n",
    "**Listing 23. 31. Adding equivalence-comparison profile features**"
   ]
  },
  {
   "cell_type": "code",
   "execution_count": 32,
   "metadata": {},
   "outputs": [
    {
     "name": "stdout",
     "output_type": "stream",
     "text": [
      "The f-measure is 0.82\n"
     ]
    }
   ],
   "source": [
    "attributes = ['Major', 'Dorm']\n",
    "for attribute in attributes:\n",
    "    features = {f'Shared_{attribute}_{e}': []\n",
    "            for e in ['id_f', 'id_fof', 'f_fof']}\n",
    "    for node_ids in df_obs[cols].values:\n",
    "        att_id, att_f, att_fof = [G.nodes[n][attribute] \n",
    "                                  for n in node_ids]\n",
    "        features[f'Shared_{attribute}_id_f'].append(int(att_id == att_f))\n",
    "        features[f'Shared_{attribute}_id_fof'].append(int(att_id == att_fof))\n",
    "        features[f'Shared_{attribute}_f_fof'].append(int(att_f == att_fof))\n",
    "        \n",
    "    X = update_features(features)\n",
    "        \n",
    "f_measure, clf = evaluate(X, y)\n",
    "print(f\"The f-measure is {f_measure:0.2f}\") "
   ]
  },
  {
   "cell_type": "markdown",
   "metadata": {},
   "source": [
    "Incorporating the _Major_ and _Dorm_ attributes has improved model performance. Now lets consider adding _Major_ and _Dorm Size_ into the mix. We can count the number of students associated with each major / dorm, and include this count as one of our features. However, we need to be careful. As we previously discussed, our trained model can cheat by utilizing size as a substitute for a category id. \n",
    "\n",
    "**Listing 23. 32. Adding size-related profile features**"
   ]
  },
  {
   "cell_type": "code",
   "execution_count": 33,
   "metadata": {},
   "outputs": [
    {
     "name": "stdout",
     "output_type": "stream",
     "text": [
      "The f-measure is 0.85\n"
     ]
    }
   ],
   "source": [
    "from collections import Counter\n",
    "\n",
    "for attribute in ['Major', 'Dorm']:\n",
    "    counter = Counter(df_profile[attribute].values)\n",
    "    att_to_size = {k: v \n",
    "                      for k, v in counter.items()}\n",
    "    features = {f'{col}_{attribute}_Size': [] for col in cols}\n",
    "    for node_ids in df_obs[cols].values:\n",
    "        for node, feature_name in zip(node_ids, features.keys()):\n",
    "            size = att_to_size[G.nodes[node][attribute]]\n",
    "            features[feature_name].append(size)\n",
    "    \n",
    "    \n",
    "    X = update_features(features)\n",
    "    \n",
    "f_measure, clf = evaluate(X, y)\n",
    "print(f\"The f-measure is {f_measure:0.2f}\") "
   ]
  },
  {
   "cell_type": "markdown",
   "metadata": {},
   "source": [
    "Performance has increased from 0.82 to 0.85. The introduction of size has impacted our model. Lets dive deeper into that impact. We'll start by printing out the feature importance scores.\n",
    "\n",
    "**Listing 23. 33. Ranking features by their importance score**"
   ]
  },
  {
   "cell_type": "code",
   "execution_count": 34,
   "metadata": {},
   "outputs": [
    {
     "name": "stdout",
     "output_type": "stream",
     "text": [
      "FoF_Dorm_Size: 0.25\n",
      "Shared_Cluster_id_fof: 0.16\n",
      "Shared_Dorm_id_fof: 0.05\n",
      "FoF_PageRank: 0.04\n",
      "Profile_ID_Major_Size: 0.04\n",
      "FoF_Major_Size: 0.04\n",
      "FoF_Edge_Count: 0.04\n",
      "Profile_ID_PageRank: 0.03\n",
      "Profile_ID_Friend_Sharing_Likelihood: 0.03\n",
      "Friend_Friend_Sharing_Likelihood: 0.03\n",
      "Friend_Edge_Count: 0.03\n",
      "Shared_Major_id_fof: 0.03\n",
      "FoF_Friend_Sharing_Likelihood: 0.02\n",
      "Friend_PageRank: 0.02\n",
      "Profile_ID_Dorm_Size: 0.02\n",
      "Profile_ID_Edge_Count: 0.02\n",
      "Profile_ID_Sex_Value: 0.02\n",
      "Friend_Major_Size: 0.02\n",
      "Profile_ID_Relationship_Status_Value: 0.02\n",
      "FoF_Sex_Value: 0.01\n",
      "Friend_Dorm_Size: 0.01\n",
      "Profile_ID_Year_Value: 0.01\n",
      "Friend_Sex_Value: 0.01\n",
      "Shared_Major_id_f: 0.01\n",
      "Friend_Relationship_Status_Value: 0.01\n",
      "Friend_Year_Value: 0.01\n"
     ]
    }
   ],
   "source": [
    "feature_names = df_features.columns.values\n",
    "view_top_features(clf, feature_names)"
   ]
  },
  {
   "cell_type": "markdown",
   "metadata": {},
   "source": [
    "The feature importance scores are dominated by two features; _FoF_Dorm_Size_ and _Shared_Cluster_id_fof_. The presence of _FoF_Dorm_Size_ is a bit concerning. As we've discussed, a single dorm dominates over 50% of the network data. Is our model simply memorizing that dorm based on its size? We can find out by actually visualizing a trained decision tree. \n",
    "\n",
    "**Listing 23. 34. Displaying the top branches of the tree**"
   ]
  },
  {
   "cell_type": "code",
   "execution_count": 35,
   "metadata": {},
   "outputs": [
    {
     "name": "stdout",
     "output_type": "stream",
     "text": [
      "|--- FoF_Dorm_Size <= 278.50\n",
      "|   |--- Shared_Cluster_id_fof <= 0.50\n",
      "|   |   |--- class: 0\n",
      "|   |--- Shared_Cluster_id_fof >  0.50\n",
      "|   |   |--- class: 0\n",
      "|--- FoF_Dorm_Size >  278.50\n",
      "|   |--- Shared_Cluster_id_fof <= 0.50\n",
      "|   |   |--- class: 0\n",
      "|   |--- Shared_Cluster_id_fof >  0.50\n",
      "|   |   |--- class: 1\n",
      "\n"
     ]
    }
   ],
   "source": [
    "from sklearn import tree\n",
    "\n",
    "clf_depth2 = DecisionTreeClassifier(max_depth=2)\n",
    "clf_depth2.fit(X, y)\n",
    "text_tree = tree.export_text(clf_depth2, feature_names=list(feature_names))\n",
    "print(text_tree)"
   ]
  },
  {
   "cell_type": "markdown",
   "metadata": {},
   "source": [
    "According to the the tree, the most important signal is whether _FoF_Dorm_Size_ is less than 279. This begs the question, how many dorms contain at-least 279 students? \n",
    "\n",
    "**Listing 23. 35. Checking dorms with at-least 279 students**"
   ]
  },
  {
   "cell_type": "code",
   "execution_count": 36,
   "metadata": {},
   "outputs": [
    {
     "name": "stdout",
     "output_type": "stream",
     "text": [
      "Dorm 12 holds 2739 students.\n",
      "Dorm 1 holds 413 students.\n"
     ]
    }
   ],
   "source": [
    "counter = Counter(df_profile.Dorm.values)\n",
    "for dorm, count in counter.items():\n",
    "    if count < 279:\n",
    "        continue\n",
    "        \n",
    "    print(f\"Dorm {dorm} holds {count} students.\")"
   ]
  },
  {
   "cell_type": "markdown",
   "metadata": {},
   "source": [
    "Just two of the 15 dorms contain more than 279 FriendHook-registered students. Essentially, our model relies on the two most-populous dorms to make its decisions. This might not generalize to other college campuses. For instance, consider a campus whose dormitories are smaller, and hold 200 students at the most. The model will completely fail to predict user-behavior in this instance. \n",
    "\n",
    "Perhaps we could try deleting the size-related features while also adjusting our choice of classifier. There is a slight chance that we'll achieve comparable performance without relying on dorm size. This is unlikely but is still worth trying. \n",
    "\n",
    "**Listing 23. 36. Deleting all size-related features**"
   ]
  },
  {
   "cell_type": "code",
   "execution_count": 37,
   "metadata": {},
   "outputs": [],
   "source": [
    "X_with_sizes = X.copy()\n",
    "X = delete_features(df_features, regex=r'_Size')"
   ]
  },
  {
   "cell_type": "markdown",
   "metadata": {},
   "source": [
    "## 23. 4 Optimizing Performance Across a Steady Set of Features\n",
    "\n",
    "Will switching the model-type from a Decision tree to a Forest improve performance outcome? Lets find out.\n",
    "\n",
    "**Listing 23. 37. Training and evaluating a Random Forest classifier**"
   ]
  },
  {
   "cell_type": "code",
   "execution_count": 38,
   "metadata": {},
   "outputs": [
    {
     "name": "stdout",
     "output_type": "stream",
     "text": [
      "The f-measure is 0.75\n"
     ]
    }
   ],
   "source": [
    "np.random.seed(0)\n",
    "from sklearn.ensemble import RandomForestClassifier\n",
    "f_measure, clf = evaluate(X, y, model_type=RandomForestClassifier)\n",
    "print(f\"The f-measure is {f_measure:0.2f}\") "
   ]
  },
  {
   "cell_type": "markdown",
   "metadata": {},
   "source": [
    "\n",
    "Switching the type of model has not helped. Perhaps instead we can boost performance by optimizing on the hyperparameters? Within this book, we've focused on single Decision tree hyperparameter; max depth. Will limiting the depth improve our predictions? Lets quickly check using a simple grid search. \n",
    "\n",
    "**Listing 23. 38. Optimizing max depth using grid search**"
   ]
  },
  {
   "cell_type": "code",
   "execution_count": 39,
   "metadata": {},
   "outputs": [
    {
     "name": "stdout",
     "output_type": "stream",
     "text": [
      "A maximized f-measure of 0.84 is achieved when max_depth equals 5\n"
     ]
    }
   ],
   "source": [
    "from sklearn.model_selection import GridSearchCV\n",
    "np.random.seed(0)\n",
    "\n",
    "hyperparams = {'max_depth': list(range(1, 100)) + [None]}\n",
    "clf_grid = GridSearchCV(DecisionTreeClassifier(), hyperparams, \n",
    "                        scoring='f1_macro', cv=2)\n",
    "clf_grid.fit(X, y)\n",
    "best_f = clf_grid.best_score_\n",
    "best_depth = clf_grid.best_params_['max_depth']\n",
    "print(f\"A maximized f-measure of {best_f:.2f} is achieved when \"\n",
    "      f\"max_depth equals {best_depth}\") "
   ]
  },
  {
   "cell_type": "markdown",
   "metadata": {},
   "source": [
    "Setting `max_depth` to 5 improves the f-measure from from 0.82 to 0.84. This level of performance is comperable with our Dorm-size dependent model. Of course, we cannot make a fair comparison without first running a grid search on the size-inclusive `X_with_size` feature-matrix. Will optimizing on `X_with_size` yield an even better classifier? Lets find out.\n",
    "\n",
    "**Listing 23. 39. Applying grid search to size-dependent training data**"
   ]
  },
  {
   "cell_type": "code",
   "execution_count": 40,
   "metadata": {},
   "outputs": [
    {
     "name": "stdout",
     "output_type": "stream",
     "text": [
      "A maximized f-measure of 0.85 is achieved when max_depth equals 6\n"
     ]
    }
   ],
   "source": [
    "np.random.seed(0)\n",
    "clf_grid.fit(X_with_sizes, y)\n",
    "best_f = clf_grid.best_score_\n",
    "best_depth = clf_grid.best_params_['max_depth']\n",
    "print(f\"A maximized f-measure of {best_f:.2f} is achieved when \"\n",
    "      f\"max_depth equals {best_depth}\") "
   ]
  },
  {
   "cell_type": "markdown",
   "metadata": {},
   "source": [
    "The grid search did not improve performance on `X_with_size`. Thus, we can conclude that with the right choice of max-depth, both the size-dependent and independent models perform with approximately equal quality. Consequently, we can train a generalizable, size-independent model without sacrificing perfomance. \n",
    "\n",
    "**Listing 23. 40. Training a Decision tree with `max_depth` set to 5**"
   ]
  },
  {
   "cell_type": "code",
   "execution_count": 41,
   "metadata": {},
   "outputs": [
    {
     "data": {
      "text/plain": [
       "DecisionTreeClassifier(max_depth=5)"
      ]
     },
     "execution_count": 41,
     "metadata": {},
     "output_type": "execute_result"
    }
   ],
   "source": [
    "clf = DecisionTreeClassifier(max_depth=5)\n",
    "clf.fit(X, y)"
   ]
  },
  {
   "cell_type": "markdown",
   "metadata": {},
   "source": [
    "## 23. 6 Interpreting the Trained Model\n",
    "\n",
    "Lets print our model's feature importance scores.\n",
    "\n",
    "**Listing 23. 41. Ranking features by their importance score**"
   ]
  },
  {
   "cell_type": "code",
   "execution_count": 42,
   "metadata": {},
   "outputs": [
    {
     "name": "stdout",
     "output_type": "stream",
     "text": [
      "Shared_Dorm_id_fof: 0.42\n",
      "Shared_Cluster_id_fof: 0.29\n",
      "Shared_Major_id_fof: 0.10\n",
      "Shared_Dorm_f_fof: 0.06\n",
      "Profile_ID_Relationship_Status_Value: 0.04\n",
      "Profile_ID_Sex_Value: 0.04\n",
      "Friend_Edge_Count: 0.02\n",
      "Friend_PageRank: 0.01\n",
      "Shared_Dorm_id_f: 0.01\n"
     ]
    }
   ],
   "source": [
    "feature_names = df_features.columns\n",
    "view_top_features(clf, feature_names)"
   ]
  },
  {
   "cell_type": "markdown",
   "metadata": {},
   "source": [
    "Only nine important features remain. Only three features have an importance score that's at or above 0.10. These are `Shared_Dorm_id_fof`, `Shared_Cluster_id_fof`, and `Shared_Major_id_fof`. Thus, the model is primarily driven by the following three questions:\n",
    "\n",
    "1. Do the the user and the friend-of-friend share a dormitory? Yes or no?\n",
    "2. Do the the user and the friend-of-friend share a social group? Yes or no?\n",
    "3. Do the the user and the friend-of-friend share a major? Yes or no?\n",
    "\n",
    "Intuitively, if the answers to all three questions are _Yes_, then the user and the friend-of-a-friend are more likely to connect on FriendHook. Lets test this intutition, by displaying the tree. \n",
    "\n",
    "**Listing 23. 42. Displaying the top branches of the tree**"
   ]
  },
  {
   "cell_type": "code",
   "execution_count": 43,
   "metadata": {},
   "outputs": [
    {
     "name": "stdout",
     "output_type": "stream",
     "text": [
      "|--- Shared_Dorm_id_fof <= 0.50\n",
      "|   |--- Shared_Cluster_id_fof <= 0.50\n",
      "|   |   |--- Shared_Major_id_fof <= 0.50\n",
      "|   |   |   |--- class: 0\n",
      "|   |   |--- Shared_Major_id_fof >  0.50\n",
      "|   |   |   |--- class: 0\n",
      "|   |--- Shared_Cluster_id_fof >  0.50\n",
      "|   |   |--- Shared_Major_id_fof <= 0.50\n",
      "|   |   |   |--- class: 0\n",
      "|   |   |--- Shared_Major_id_fof >  0.50\n",
      "|   |   |   |--- class: 1\n",
      "|--- Shared_Dorm_id_fof >  0.50\n",
      "|   |--- Shared_Cluster_id_fof <= 0.50\n",
      "|   |   |--- Profile_ID_Sex_Value <= 0.50\n",
      "|   |   |   |--- class: 0\n",
      "|   |   |--- Profile_ID_Sex_Value >  0.50\n",
      "|   |   |   |--- class: 2\n",
      "|   |--- Shared_Cluster_id_fof >  0.50\n",
      "|   |   |--- Shared_Dorm_f_fof <= 0.50\n",
      "|   |   |   |--- class: 1\n",
      "|   |   |--- Shared_Dorm_f_fof >  0.50\n",
      "|   |   |   |--- class: 1\n",
      "\n"
     ]
    }
   ],
   "source": [
    "clf_depth3 = DecisionTreeClassifier(max_depth=3)\n",
    "clf_depth3.fit(X, y)\n",
    "text_tree = tree.export_text(clf_depth3, \n",
    "                             feature_names=list(feature_names))\n",
    "print(text_tree)"
   ]
  },
  {
   "cell_type": "markdown",
   "metadata": {},
   "source": [
    "\n",
    "The model's logic is very straightforward. Users who share social groups and living spaces or study-schedules are more likely to connect. There's nothing suprising about that. What is suprising is how the _Sex_ feature drives _Class 2_ label prediction. According to our tree, rejection is more likeley when:\n",
    "\n",
    "1. The users share a dorm but are not in the same social group.\n",
    "2. The request sender is of a certain specific sex.\n",
    "\n",
    "Of course, we know that _Class 2_ labels are fairly sparse within our data. Perhaps the model's predictions are caused by random noise arising from the sparse sampling? Lets quickly check how well we predict rejection. \n",
    "\n",
    "**Listing 23. 43. Evaluating a rejection classifier**"
   ]
  },
  {
   "cell_type": "code",
   "execution_count": 44,
   "metadata": {},
   "outputs": [
    {
     "name": "stdout",
     "output_type": "stream",
     "text": [
      "The f-measure is 0.97\n"
     ]
    }
   ],
   "source": [
    "y_reject = y *(y == 2)\n",
    "f_measure, clf_reject = evaluate(X, y_reject, max_depth=5)\n",
    "print(f\"The f-measure is {f_measure:0.2f}\") "
   ]
  },
  {
   "cell_type": "markdown",
   "metadata": {},
   "source": [
    "Wow, the f-measure is actually very high! We can predict rejection very well, despite the sparsity of data. What features drive rejection? Lets check by printing the new feature importance scores.\n",
    "\n",
    "**Listing 23. 44. Ranking features by their importance score**"
   ]
  },
  {
   "cell_type": "code",
   "execution_count": 45,
   "metadata": {},
   "outputs": [
    {
     "name": "stdout",
     "output_type": "stream",
     "text": [
      "Profile_ID_Sex_Value: 0.40\n",
      "Profile_ID_Relationship_Status_Value: 0.24\n",
      "Shared_Major_id_fof: 0.21\n",
      "Shared_Cluster_id_fof: 0.10\n",
      "Shared_Dorm_id_fof: 0.05\n"
     ]
    }
   ],
   "source": [
    "view_top_features(clf_reject, feature_names)"
   ]
  },
  {
   "cell_type": "markdown",
   "metadata": {},
   "source": [
    "Interesting! Rejection is primarily driven by the user's _Sex_ and _Relationship_Status_ attributes. Lets visualize the trained tree to learn more.\n",
    "\n",
    "**Listing 23. 45. Displaying the rejection-predicting tree**"
   ]
  },
  {
   "cell_type": "code",
   "execution_count": 46,
   "metadata": {},
   "outputs": [
    {
     "name": "stdout",
     "output_type": "stream",
     "text": [
      "|--- Shared_Cluster_id_fof <= 0.50\n",
      "|   |--- Shared_Major_id_fof <= 0.50\n",
      "|   |   |--- Shared_Dorm_id_fof <= 0.50\n",
      "|   |   |   |--- class: 0\n",
      "|   |   |--- Shared_Dorm_id_fof >  0.50\n",
      "|   |   |   |--- Profile_ID_Relationship_Status_Value <= 2.50\n",
      "|   |   |   |   |--- class: 0\n",
      "|   |   |   |--- Profile_ID_Relationship_Status_Value >  2.50\n",
      "|   |   |   |   |--- Profile_ID_Sex_Value <= 0.50\n",
      "|   |   |   |   |   |--- class: 0\n",
      "|   |   |   |   |--- Profile_ID_Sex_Value >  0.50\n",
      "|   |   |   |   |   |--- class: 2\n",
      "|   |--- Shared_Major_id_fof >  0.50\n",
      "|   |   |--- Profile_ID_Sex_Value <= 0.50\n",
      "|   |   |   |--- class: 0\n",
      "|   |   |--- Profile_ID_Sex_Value >  0.50\n",
      "|   |   |   |--- Profile_ID_Relationship_Status_Value <= 2.50\n",
      "|   |   |   |   |--- class: 0\n",
      "|   |   |   |--- Profile_ID_Relationship_Status_Value >  2.50\n",
      "|   |   |   |   |--- class: 2\n",
      "|--- Shared_Cluster_id_fof >  0.50\n",
      "|   |--- class: 0\n",
      "\n"
     ]
    }
   ],
   "source": [
    "text_tree = tree.export_text(clf_reject, \n",
    "                             feature_names=list(feature_names))\n",
    "print(text_tree)"
   ]
  },
  {
   "cell_type": "markdown",
   "metadata": {},
   "source": [
    "According to the tree, individuals with _Sex Category 1_ and _Relationship Status Category 3_ are sending friend-requests to people outside their social group. These friend requests are likely to get rejected. Of course, we don't know the identify of the categories that lead to rejection. However, as scientists, we still speculate. Given what we know about human nature, it wouldn't be suprising this behavior is driven by single men. Perhaps they are trying to connect with women outside their social circle, in order to get a date? If, so then the request will probably be rejected. Again, all this is speculation. However, this hypothesis is worth discussing with the product managers at FriendHook. If our hypothesis is correct, then certain changes should be introduced to the product. More steps could be taken to limit unwanted dating requests. Alternatively, new product changes could be added that make easier for single people to connect."
   ]
  }
 ],
 "metadata": {
  "kernelspec": {
   "display_name": "Python 3",
   "language": "python",
   "name": "python3"
  },
  "language_info": {
   "codemirror_mode": {
    "name": "ipython",
    "version": 3
   },
   "file_extension": ".py",
   "mimetype": "text/x-python",
   "name": "python",
   "nbconvert_exporter": "python",
   "pygments_lexer": "ipython3",
   "version": "3.8.3"
  }
 },
 "nbformat": 4,
 "nbformat_minor": 2
}
