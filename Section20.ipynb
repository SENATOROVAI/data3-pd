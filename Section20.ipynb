{
 "cells": [
  {
   "cell_type": "code",
   "execution_count": 1,
   "metadata": {},
   "outputs": [],
   "source": [
    "import warnings\n",
    "warnings.filterwarnings('ignore')"
   ]
  },
  {
   "cell_type": "markdown",
   "metadata": {},
   "source": [
    "# Section 20: Network-Driven Supervised Machine Learning\n",
    "\n",
    "## 20.1 The Basics of Supervised Machine Learning\n",
    "\n",
    "We want to construct a model that maps inputted iris measurements to one of three species categories. In machine learning, these inputted measurements are called **features**. Meanwhile, the outputted categories are called **classes**. The goal of supervised learning is to construct a model that can identify classes based on features. Such a model is called a **classifier**.\n",
    "\n",
    "As seen in Section Fourteen, we can load known iris features and class labels using Scikit-Learn’s `load_iris` function. \n",
    "\n",
    "**Listing 20. 1. Loading iris features and class labels**"
   ]
  },
  {
   "cell_type": "code",
   "execution_count": 2,
   "metadata": {},
   "outputs": [
    {
     "name": "stdout",
     "output_type": "stream",
     "text": [
      "We have 150 labeled examples across the following 3 classes:\n",
      "{0, 1, 2}\n",
      "\n",
      "First four feature rows:\n",
      "[[5.1 3.5 1.4 0.2]\n",
      " [4.9 3.  1.4 0.2]\n",
      " [4.7 3.2 1.3 0.2]\n",
      " [4.6 3.1 1.5 0.2]]\n",
      "\n",
      "First four labels:\n",
      "[0 0 0 0]\n"
     ]
    }
   ],
   "source": [
    "from sklearn.datasets import load_iris\n",
    "X, y = load_iris(return_X_y=True)\n",
    "num_classes = len(set(y))\n",
    "print(f\"We have {y.size} labeled examples across the following \"\n",
    "      f\"{num_classes} classes:\\n{set(y)}\\n\")\n",
    "print(f\"First four feature rows:\\n{X[:4]}\")\n",
    "print(f\"\\nFirst four labels:\\n{y[:4]}\")"
   ]
  },
  {
   "cell_type": "markdown",
   "metadata": {},
   "source": [
    "All 150 flower measurements have been labeled as belonging to one of three flower species. Imagine that we only have the resources to label one-fourth of the flowers. We'd label the data then train a model to predict the classes of the remaining flowers. Lets simulate this scenario.\n",
    "\n",
    "**Listing 20. 2. Creating a training set**"
   ]
  },
  {
   "cell_type": "code",
   "execution_count": 3,
   "metadata": {},
   "outputs": [
    {
     "name": "stdout",
     "output_type": "stream",
     "text": [
      "Training set labels:\n",
      "[0 0 0 0 0 0 0 0 0 0 0 0 0 0 0 0 0 0 0 0 0 0 0 0 0 0 0 0 0 0 0 0 0 0 0 0 0]\n"
     ]
    }
   ],
   "source": [
    "sampling_size = int(y.size / 4)\n",
    "X_train, y_train = X[:sampling_size], y[:sampling_size]\n",
    "print(f\"Training set labels:\\n{y_train}\")"
   ]
  },
  {
   "cell_type": "markdown",
   "metadata": {},
   "source": [
    "Our training set contains just the labeled examples with _Species 0_. The remaining two flower species are not represented. In order to increase representation, we should sample at random from `X` and `y`.\n",
    "\n",
    "**Listing 20. 3. Creating a training set through random sampling**"
   ]
  },
  {
   "cell_type": "code",
   "execution_count": 4,
   "metadata": {},
   "outputs": [
    {
     "name": "stdout",
     "output_type": "stream",
     "text": [
      "Training set labels:\n",
      "[0 2 1 2 1 0 2 0 2 0 0 2 0 2 1 1 1 2 2 1 1 0 1 2 2 0 1 1 1 1 0 0 0 2 1 2 0]\n"
     ]
    }
   ],
   "source": [
    "from sklearn.model_selection import train_test_split\n",
    "import numpy as np\n",
    "np.random.seed(0)\n",
    "X_train, X_test, y_train, y_test = train_test_split(X, y, train_size=0.25)\n",
    "print(f\"Training set labels:\\n{y_train}\")"
   ]
  },
  {
   "cell_type": "markdown",
   "metadata": {},
   "source": [
    "As we saw in Section Fourteen, the features within the iris dataset can be plotted in multi-dimensional space. This plotted data forms spatial clusters. Hence, elements in `X_test` are more likely to share their class with the `X_train` points found in the adjacent cluster. \n",
    "\n",
    "**Listing 20. 4. Plotting the training and test sets**"
   ]
  },
  {
   "cell_type": "code",
   "execution_count": 5,
   "metadata": {},
   "outputs": [
    {
     "data": {
      "image/png": "[encoded data removed]",
      "text/plain": [
       "<Figure size 432x288 with 1 Axes>"
      ]
     },
     "metadata": {
      "needs_background": "light"
     },
     "output_type": "display_data"
    }
   ],
   "source": [
    "import matplotlib.pyplot as plt\n",
    "from sklearn.decomposition import PCA\n",
    "\n",
    "pca_model = PCA()\n",
    "transformed_data_2D = pca_model.fit_transform(X_train)\n",
    "\n",
    "unlabeled_data = pca_model.transform(X_test)\n",
    "plt.scatter(unlabeled_data[:,0], unlabeled_data[:,1],\n",
    "            color='khaki', marker='^', label='test')\n",
    "\n",
    "for label in range(3):\n",
    "    data_subset = transformed_data_2D[y_train == label]\n",
    "    plt.scatter(data_subset[:,0], data_subset[:,1],\n",
    "            color=['r', 'k', 'b'][label], label=f'train: {label}')\n",
    "\n",
    "plt.legend()\n",
    "plt.show()"
   ]
  },
  {
   "cell_type": "markdown",
   "metadata": {},
   "source": [
    "Many unlabeled points cluster around _Species 0_. These unlabeled flowers clearly belong to the same species. Elsewhere in the plot, certain unlabeled flowers are proximate to both _Species 1_ and _Species 2_. For each such point, we'll need to quantify which labeled species are closer. This will require us to track the Euclidean distance between each feature in `X_test` and each feature in `X_train`. \n",
    "\n",
    "**Listing 20. 5. Computing Euclidean distances between points**"
   ]
  },
  {
   "cell_type": "code",
   "execution_count": 6,
   "metadata": {},
   "outputs": [
    {
     "name": "stdout",
     "output_type": "stream",
     "text": [
      "Our first test set feature is [5.8 2.8 5.1 2.4]\n",
      "Our first training set feature is [5.1 3.5 1.4 0.2]\n",
      "The Euclidean distance between the features is 4.18\n"
     ]
    }
   ],
   "source": [
    "from sklearn.metrics.pairwise import euclidean_distances\n",
    "distance_matrix = euclidean_distances(X_test, X_train)\n",
    "\n",
    "f_train, f_test = X_test[0], X[0]\n",
    "distance = distance_matrix[0][0]\n",
    "print(f\"Our first test set feature is {f_train}\")\n",
    "print(f\"Our first training set feature is {f_test}\")\n",
    "print(f\"The Euclidean distance between the features is {distance:.2f}\")"
   ]
  },
  {
   "cell_type": "markdown",
   "metadata": {},
   "source": [
    "We can assume that each unlabeled point shares a class that is common to its neighbors. This strategy forms the basis for the **K-nearest Neighbors** algorithm, which is referred to as **KNN** for short. \n",
    "\n",
    "**Listing 20. 6. Labeling a point based on its nearest neighbors**"
   ]
  },
  {
   "cell_type": "code",
   "execution_count": 7,
   "metadata": {},
   "outputs": [
    {
     "name": "stdout",
     "output_type": "stream",
     "text": [
      "The 3 nearest neighbors of Point 10 have the following labels:\n",
      "[2 1 2]\n",
      "\n",
      "The most common class label is 2. It occurs 2 times.\n"
     ]
    }
   ],
   "source": [
    "from collections import Counter\n",
    "np.random.seed(6)\n",
    "random_index = np.random.randint(y_test.size)\n",
    "labeled_distances = distance_matrix[random_index]\n",
    "labeled_neighbors = np.argsort(labeled_distances)[:3]\n",
    "labels = y_train[labeled_neighbors]\n",
    "\n",
    "top_label, count = Counter(labels).most_common()[0]\n",
    "print(f\"The 3 nearest neighbors of Point {random_index} have the \"\n",
    "      f\"following labels:\\n{labels}\")\n",
    "print(f\"\\nThe most common class label is {top_label}. It occurs {count} \"\n",
    "       \"times.\")"
   ]
  },
  {
   "cell_type": "markdown",
   "metadata": {},
   "source": [
    "The most common class label among the neighbors of _Point 10_ is _Label 2_. How does this compare to the actual class of the flower?\n",
    "\n",
    "**Listing 20. 7. Checking the true class of a predicted label**"
   ]
  },
  {
   "cell_type": "code",
   "execution_count": 8,
   "metadata": {},
   "outputs": [
    {
     "name": "stdout",
     "output_type": "stream",
     "text": [
      "The true class of Point 10 is 2.\n"
     ]
    }
   ],
   "source": [
    "true_label = y_test[random_index]\n",
    "print(f\"The true class of Point {random_index} is {true_label}.\")"
   ]
  },
  {
   "cell_type": "markdown",
   "metadata": {},
   "source": [
    "We can reformulate KNN as a graph theory problem. We can treat each point as a node, and its label as a node attribute. Afterwards, we can choose an unlabeled point and extend edges to its K closest labeled neighbors. Visualizing the neighbor graph subsequently allows us to identify the point.\n",
    "\n",
    "**Listing 20. 8. Visualizing nearest neighbors with NetworkX**"
   ]
  },
  {
   "cell_type": "code",
   "execution_count": 9,
   "metadata": {},
   "outputs": [
    {
     "data": {
      "image/png": "[encoded data removed]",
      "text/plain": [
       "<Figure size 432x288 with 1 Axes>"
      ]
     },
     "metadata": {},
     "output_type": "display_data"
    }
   ],
   "source": [
    "import networkx as nx\n",
    "np.random.seed(0)\n",
    "\n",
    "def generate_neighbor_graph(unlabeled_index, labeled_neighbors):\n",
    "    G = nx.Graph()\n",
    "    nodes = [(i, {'label': y_train[i]}) for i in labeled_neighbors]\n",
    "    nodes.append((unlabeled_index, {'label': 'U'}))\n",
    "    G.add_nodes_from(nodes)\n",
    "    G.add_edges_from([(i, unlabeled_index) for i in labeled_neighbors])\n",
    "    labels = y_train[labeled_neighbors]\n",
    "    label_colors = ['pink', 'khaki', 'cyan']\n",
    "    colors = [label_colors[y_train[i]] for i in labeled_neighbors] + ['k']\n",
    "    labels = {i: G.nodes[i]['label'] for i in G.nodes}\n",
    "    nx.draw(G, node_color=colors, labels=labels, with_labels=True)\n",
    "    plt.show()\n",
    "    return G\n",
    "    \n",
    "G = generate_neighbor_graph(random_index, labeled_neighbors)"
   ]
  },
  {
   "cell_type": "markdown",
   "metadata": {},
   "source": [
    "KNN works when there are just three neighbors. What happens if we increase the neighbor count to four?\n",
    "\n",
    "**Listing 20. 9. Increasing the number of nearest neighbors**"
   ]
  },
  {
   "cell_type": "code",
   "execution_count": 10,
   "metadata": {},
   "outputs": [
    {
     "data": {
      "image/png": "[encoded data removed]",
      "text/plain": [
       "<Figure size 432x288 with 1 Axes>"
      ]
     },
     "metadata": {},
     "output_type": "display_data"
    }
   ],
   "source": [
    "np.random.seed(0)\n",
    "labeled_neighbors = np.argsort(labeled_distances)[:4]\n",
    "G = generate_neighbor_graph(random_index, labeled_neighbors)"
   ]
  },
  {
   "cell_type": "markdown",
   "metadata": {},
   "source": [
    "There is a tie! We can break that tie by weighing label-votes based on the inverse distance to the unlabeled point.\n",
    "\n",
    "**Listing 20. 10. Weighing votes of neighbors based on distance**"
   ]
  },
  {
   "cell_type": "code",
   "execution_count": 11,
   "metadata": {},
   "outputs": [
    {
     "name": "stdout",
     "output_type": "stream",
     "text": [
      "A data point with a label of 2 is 0.54 units away. It receives 1.86 votes.\n",
      "A data point with a label of 1 is 0.74 units away. It receives 1.35 votes.\n",
      "A data point with a label of 2 is 0.77 units away. It receives 1.29 votes.\n",
      "A data point with a label of 1 is 0.98 units away. It receives 1.02 votes.\n",
      "\n",
      "We counted 3.15 votes for class 2.\n",
      "We counted 2.36 votes for class 1.\n",
      "Class 2 has received the plurality of the votes.\n"
     ]
    }
   ],
   "source": [
    "from collections import defaultdict\n",
    "class_to_votes = defaultdict(int)\n",
    "for node in G.neighbors(random_index):\n",
    "    label = G.nodes[node]['label']\n",
    "    distance = distance_matrix[random_index][node]\n",
    "    num_votes = 1 / distance\n",
    "    print(f\"A data point with a label of {label} is {distance:.2f} units \"\n",
    "          f\"away. It receives {num_votes:.2f} votes.\")\n",
    "    class_to_votes[label] += num_votes\n",
    "  \n",
    "print()\n",
    "for class_label, votes in class_to_votes.items():\n",
    "    print(f\"We counted {votes:.2f} votes for class {class_label}.\")\n",
    "    \n",
    "top_class = max(class_to_votes.items(), key=lambda x: x[1])[0]\n",
    "print(f\"Class {top_class} has received the plurality of the votes.\")"
   ]
  },
  {
   "cell_type": "markdown",
   "metadata": {},
   "source": [
    "## 20. 2 Measuring Predicted Label Accuracy\n",
    "\n",
    "We want to analyze predictions across all the points within `X_test`. We'll define a `predict` function for this purpose.\n",
    "\n",
    "**Listing 20. 11. Parameterizing KNN predictions**"
   ]
  },
  {
   "cell_type": "code",
   "execution_count": 12,
   "metadata": {},
   "outputs": [],
   "source": [
    "def predict(index, K=1, weighted_voting=False):\n",
    "    labeled_distances = distance_matrix[index]\n",
    "    labeled_neighbors = np.argsort(labeled_distances)[:K]\n",
    "    class_to_votes = defaultdict(int)\n",
    "    for neighbor in labeled_neighbors:\n",
    "        label = y_train[neighbor]\n",
    "        distance = distance_matrix[index][neighbor]\n",
    "        num_votes = 1 / max(distance, 1e-10) if weighted_voting else 1\n",
    "        class_to_votes[label] += num_votes\n",
    "    return max(class_to_votes, key=lambda x: class_to_votes[x])\n",
    "\n",
    "assert predict(random_index, K=3) == 2\n",
    "assert predict(random_index, K=4, weighted_voting=True) == 2"
   ]
  },
  {
   "cell_type": "markdown",
   "metadata": {},
   "source": [
    "Lets execute `predict` across all unlabeled indices.\n",
    "\n",
    "**Listing 20. 12. Predicting all unlabeled flower classes**"
   ]
  },
  {
   "cell_type": "code",
   "execution_count": 13,
   "metadata": {},
   "outputs": [],
   "source": [
    "y_pred = np.array([predict(i) for i in range(y_test.size)])"
   ]
  },
  {
   "cell_type": "markdown",
   "metadata": {},
   "source": [
    "We want to compare the predicted classes with the actual classes in `y_test`. Lets start by printing out both the `y_pred` and the `y_test` arrays.\n",
    "\n",
    "**Listing 20. 13. Comparing the predicted and actual classes**"
   ]
  },
  {
   "cell_type": "code",
   "execution_count": 14,
   "metadata": {},
   "outputs": [
    {
     "name": "stdout",
     "output_type": "stream",
     "text": [
      "Predicted Classes:\n",
      "[2 1 0 2 0 2 0 1 1 1 2 1 1 1 2 0 2 1 0 0 2 1 0 0 2 0 0 1 1 0 2 1 0 2 2 1 0\n",
      " 2 1 1 2 0 2 0 0 1 2 2 1 2 1 2 1 1 1 1 1 1 1 2 1 0 2 1 1 1 2 2 0 0 2 1 0 0\n",
      " 1 0 2 1 0 1 2 1 0 2 2 2 2 0 0 2 2 0 2 0 2 2 0 0 2 0 0 0 1 2 2 0 0 0 1 1 0\n",
      " 0 1]\n",
      "\n",
      "Actual Classes:\n",
      "[2 1 0 2 0 2 0 1 1 1 2 1 1 1 1 0 1 1 0 0 2 1 0 0 2 0 0 1 1 0 2 1 0 2 2 1 0\n",
      " 1 1 1 2 0 2 0 0 1 2 2 2 2 1 2 1 1 2 2 2 2 1 2 1 0 2 1 1 1 1 2 0 0 2 1 0 0\n",
      " 1 0 2 1 0 1 2 1 0 2 2 2 2 0 0 2 2 0 2 0 2 2 0 0 2 0 0 0 1 2 2 0 0 0 1 1 0\n",
      " 0 1]\n"
     ]
    }
   ],
   "source": [
    "print(f\"Predicted Classes:\\n{y_pred}\")\n",
    "print(f\"\\nActual Classes:\\n{y_test}\")"
   ]
  },
  {
   "cell_type": "markdown",
   "metadata": {},
   "source": [
    "It's easier to compare the two arrays if we aggregate them into a **cofusion matrix**.  The matrix rows will track predicted classes, while the columns will track the true class identities. \n",
    "\n",
    "**Listing 20. 14. Computing the confusion matrix**"
   ]
  },
  {
   "cell_type": "code",
   "execution_count": 15,
   "metadata": {},
   "outputs": [
    {
     "data": {
      "image/png": "[encoded data removed]",
      "text/plain": [
       "<Figure size 432x288 with 2 Axes>"
      ]
     },
     "metadata": {
      "needs_background": "light"
     },
     "output_type": "display_data"
    }
   ],
   "source": [
    "import seaborn as sns\n",
    "def compute_confusion_matrix(y_pred, y_test): \n",
    "    num_classes = len(set(y_pred) | set(y_test))\n",
    "    confusion_matrix = np.zeros((num_classes, num_classes))\n",
    "    for prediction, actual in zip(y_pred, y_test):\n",
    "        confusion_matrix[prediction][actual] += 1\n",
    "    \n",
    "    return confusion_matrix\n",
    "    \n",
    "\n",
    "M = compute_confusion_matrix(y_pred, y_test)\n",
    "sns.heatmap(M, annot=True, cmap='YlGnBu',\n",
    "            yticklabels=[f\"Predict {i}\" for i in range(3)],\n",
    "            xticklabels = [f\"Actual {i}\" for i in range(3)])\n",
    "plt.yticks(rotation=0)\n",
    "plt.show()"
   ]
  },
  {
   "cell_type": "markdown",
   "metadata": {},
   "source": [
    "Each diagonal element `M[i][i]` tracks the number of accurately predicted instances of _Class i_. Such accurate predictions are commonly called **true positives**.\n",
    "\n",
    "**Listing 20. 15. Counting the number of accurate predictions**"
   ]
  },
  {
   "cell_type": "code",
   "execution_count": 16,
   "metadata": {},
   "outputs": [
    {
     "name": "stdout",
     "output_type": "stream",
     "text": [
      "Our results contain 104 accurate predictions.\n"
     ]
    }
   ],
   "source": [
    "num_accurate_predictions = M.diagonal().sum()\n",
    "print(f\"Our results contain {int(num_accurate_predictions)} accurate \"\n",
    "       \"predictions.\")"
   ]
  },
  {
   "cell_type": "markdown",
   "metadata": {},
   "source": [
    "The fraction of total accurate predictions is referred to as the **accuracy** score. Accuracy can be computed dividing the diagonal sum across the total sum of matrix elements.\n",
    "\n",
    "**Listing 20. 16. Measuring the accuracy score**"
   ]
  },
  {
   "cell_type": "code",
   "execution_count": 17,
   "metadata": {},
   "outputs": [
    {
     "name": "stdout",
     "output_type": "stream",
     "text": [
      "Our predictions are 92% accurate.\n"
     ]
    }
   ],
   "source": [
    "accuracy = M.diagonal().sum() / M.sum()\n",
    "assert accuracy == 104 / (104 + 9)\n",
    "print(f\"Our predictions are {100 * accuracy:.0f}% accurate.\")"
   ]
  },
  {
   "cell_type": "markdown",
   "metadata": {},
   "source": [
    "Errors are present in the output. The model periodically confuses instances of _Classes 1_ and _2_. Lets try to quantify that confusion. First, we'll count the total number of elements that we've predicted as belonging to _Class 1_. \n",
    "\n",
    "**Listing 20. 17. Counting the predicted Class 1 elements**"
   ]
  },
  {
   "cell_type": "code",
   "execution_count": 18,
   "metadata": {},
   "outputs": [
    {
     "name": "stdout",
     "output_type": "stream",
     "text": [
      "We've predicted that 38 elements belong to Class 1.\n"
     ]
    }
   ],
   "source": [
    "row1_sum = M[1].sum()\n",
    "print(f\"We've predicted that {int(row1_sum)} elements belong to Class 1.\")"
   ]
  },
  {
   "cell_type": "markdown",
   "metadata": {},
   "source": [
    "We've predicted that 38 elements belong to _Class 1_. 33 predictions are true positives. Meanwhile, the remaining 5 predictions are **false positives**. The ratio `33 / 38` produces a metric called **precision**. A low precision indicates that a predicted class label is not very reliable. \n",
    "\n",
    "**Listing 20. 18. Computing the precision of Class 1**"
   ]
  },
  {
   "cell_type": "code",
   "execution_count": 19,
   "metadata": {},
   "outputs": [
    {
     "name": "stdout",
     "output_type": "stream",
     "text": [
      "Precision of Class 1 is 0.87\n"
     ]
    }
   ],
   "source": [
    "precision = M[1][1] / M[1].sum()\n",
    "assert precision == 33 / 38\n",
    "print(f\"Precision of Class 1 is {precision:.2f}\")"
   ]
  },
  {
   "cell_type": "markdown",
   "metadata": {},
   "source": [
    "Errors can also be detected across the confusion matrix columns. Consider for example, _Column 1_. That column tracks all elements in `y_test` whose true label is equal to _Class 1_. \n",
    "\n",
    "**Listing 20. 19. Counting the total Class 1 elements**"
   ]
  },
  {
   "cell_type": "code",
   "execution_count": 20,
   "metadata": {},
   "outputs": [
    {
     "name": "stdout",
     "output_type": "stream",
     "text": [
      "37 elements in our test set belong to Class 1.\n"
     ]
    }
   ],
   "source": [
    "col1_sum = M[:,1].sum()\n",
    "assert col1_sum == y_test[y_test == 1].size\n",
    "print(f\"{int(col1_sum)} elements in our test set belong to Class 1.\")"
   ]
  },
  {
   "cell_type": "markdown",
   "metadata": {},
   "source": [
    "37 elements in our test set belong to _Class 1_. 33 of the elements are true positives. The remaining 4 elements are **false negatives**. The ratio `33 / 37` produces a metric called **recall**. A low recall indicates that our predictor commonly misses valid instances of a class.\n",
    "\n",
    "**Listing 20. 20. Computing the recall of Class 1**"
   ]
  },
  {
   "cell_type": "code",
   "execution_count": 21,
   "metadata": {},
   "outputs": [
    {
     "name": "stdout",
     "output_type": "stream",
     "text": [
      "Recall of Class 1 is 0.89\n"
     ]
    }
   ],
   "source": [
    "recall = M[1][1] / M[:,1].sum()\n",
    "assert recall == 33 / 37\n",
    "print(f\"Recall of Class 1 is {recall:.2f}\")"
   ]
  },
  {
   "cell_type": "markdown",
   "metadata": {},
   "source": [
    "A maximum recall of 1.0 is trivial to achieve. We simply need to label each incoming data-point as belonging to _Class 1_. However, this will cause precision to drop drastically. \n",
    "\n",
    "**Listing 20. 21. Checking precision at a recall of 1.0**"
   ]
  },
  {
   "cell_type": "code",
   "execution_count": 22,
   "metadata": {},
   "outputs": [
    {
     "name": "stdout",
     "output_type": "stream",
     "text": [
      "Precision at a trivially maximized recall is 0.29\n"
     ]
    }
   ],
   "source": [
    "low_precision = M[1][1] / M.sum() \n",
    "print(f\"Precision at a trivially maximized recall is {low_precision:.2f}\")"
   ]
  },
  {
   "cell_type": "markdown",
   "metadata": {},
   "source": [
    "We should combine precision and recall into a single metric. However, we can't average these values because they are fractions with different denominators. Fortunately, their numerators are both equal to `M[1][1]`. Thus, we can invert the fractions and then take their average.\n",
    "\n",
    "**Listing 20. 22. Taking the mean of the inverted metrics**"
   ]
  },
  {
   "cell_type": "code",
   "execution_count": 23,
   "metadata": {},
   "outputs": [
    {
     "name": "stdout",
     "output_type": "stream",
     "text": [
      "The average of inverted metrics is 1.14\n"
     ]
    }
   ],
   "source": [
    "inverse_average = (1 / precision + 1 / recall) / 2\n",
    "print(f\"The average of inverted metrics is {inverse_average:.2f}\")"
   ]
  },
  {
   "cell_type": "markdown",
   "metadata": {},
   "source": [
    "The average of the inverses is higher than 1.0. However, both precision and recall have a maximum ceiling of 1.0. We can force the aggregated value to fall within that range by taking an inverse of the average.\n",
    "\n",
    "**Listing 20. 23. Taking the inverse of the inverted mean**"
   ]
  },
  {
   "cell_type": "code",
   "execution_count": 24,
   "metadata": {},
   "outputs": [
    {
     "name": "stdout",
     "output_type": "stream",
     "text": [
      "The inverse of average is 0.88\n"
     ]
    }
   ],
   "source": [
    "result = 1 / inverse_average\n",
    "print(f\"The inverse of average is {result:.2f}\")"
   ]
  },
  {
   "cell_type": "markdown",
   "metadata": {},
   "source": [
    "Our aggregated metric is called the **f1-measure** or **f1-score**. Commonly, it's referred to as simply the **f-measure**. The f-measure can be computed more directly by running `2 * precision * recall / (precision + recall)`.\n",
    "\n",
    "**Listing 20. 24. Computing the f-measure of Class 1**"
   ]
  },
  {
   "cell_type": "code",
   "execution_count": 25,
   "metadata": {},
   "outputs": [
    {
     "name": "stdout",
     "output_type": "stream",
     "text": [
      "The f-measure of Class 1 is 0.88\n"
     ]
    }
   ],
   "source": [
    "f_measure = 2 * precision * recall / (precision + recall)\n",
    "print(f\"The f-measure of Class 1 is {f_measure:.2f}\")"
   ]
  },
  {
   "cell_type": "markdown",
   "metadata": {},
   "source": [
    "In this instance, the f-measure is equal to the average of the precision and recall. However this is not always the case. Consider a prediction that has one true positive, one false positive, and zero false negatives. \n",
    "\n",
    "**Listing 20. 25. Comparing the f-measure to the average**"
   ]
  },
  {
   "cell_type": "code",
   "execution_count": 26,
   "metadata": {},
   "outputs": [
    {
     "name": "stdout",
     "output_type": "stream",
     "text": [
      "Precision: 0.5\n",
      "Recall: 1.0\n",
      "Average: 0.75\n",
      "F-measure: 0.67\n"
     ]
    }
   ],
   "source": [
    "tp, fp, fn = 1, 1, 0\n",
    "precision = tp / (tp + fp)\n",
    "recall = tp / (tp + fn)\n",
    "f_measure = 2 * precision * recall / (precision + recall)\n",
    "average = (precision + recall) / 2\n",
    "print(f\"Precision: {precision}\")\n",
    "print(f\"Recall: {recall}\")\n",
    "print(f\"Average: {average}\")\n",
    "print(f\"F-measure: {f_measure:.2f}\")"
   ]
  },
  {
   "cell_type": "markdown",
   "metadata": {},
   "source": [
    "The f-measure provides us with a robust evaluation for an individual class. With this in mind, we'll now compute the f-measure for each class within our dataset.\n",
    "\n",
    "**Listing 20. 26. Computing the f-measure for each class**"
   ]
  },
  {
   "cell_type": "code",
   "execution_count": 27,
   "metadata": {},
   "outputs": [
    {
     "name": "stdout",
     "output_type": "stream",
     "text": [
      "The f-measure for Class 0 is 1.00\n",
      "The f-measure for Class 1 is 0.88\n",
      "The f-measure for Class 2 is 0.88\n"
     ]
    }
   ],
   "source": [
    "def compute_f_measures(M):\n",
    "    precisions = M.diagonal() / M.sum(axis=0)\n",
    "    recalls = M.diagonal() / M.sum(axis=1)\n",
    "    return 2 * precisions * recalls / (precisions + recalls)\n",
    "    \n",
    "f_measures = compute_f_measures(M)\n",
    "for class_label, f_measure in enumerate(f_measures):\n",
    "    print(f\"The f-measure for Class {class_label} is {f_measure:.2f}\")"
   ]
  },
  {
   "cell_type": "markdown",
   "metadata": {},
   "source": [
    "We computed three f-measures across three different classes. These f-measures can be combined into a single score by taking their mean.\n",
    "\n",
    "**Listing 20. 26. Computing the f-measure for each class**"
   ]
  },
  {
   "cell_type": "code",
   "execution_count": 28,
   "metadata": {},
   "outputs": [
    {
     "name": "stdout",
     "output_type": "stream",
     "text": [
      "Our unified f-measure equals 0.92\n"
     ]
    }
   ],
   "source": [
    "avg_f = f_measures.mean()\n",
    "print(f\"Our unified f-measure equals {avg_f:.2f}\")"
   ]
  },
  {
   "cell_type": "markdown",
   "metadata": {},
   "source": [
    "The f-measure is identical to our accuracy. However, that f-measure and accuracy are not guaranteed to be the same. The difference between the metrics is especially noticeable when the classes are **imbalanced**. In an imbalanced dataset, there are way more instances of some _Class A_ than of another _Class B_.\n",
    "\n",
    "**Listing 20. 28. Comparing performance metrics across imbalanced data**"
   ]
  },
  {
   "cell_type": "code",
   "execution_count": 29,
   "metadata": {},
   "outputs": [
    {
     "name": "stdout",
     "output_type": "stream",
     "text": [
      "The accuracy for our imbalanced dataset is 0.99\n",
      "The f-measure for our imbalanced dataset is 0.83\n"
     ]
    }
   ],
   "source": [
    "M_imbalanced = np.array([[99, 0], [1, 1]])\n",
    "accuracy_imb = M_imbalanced.diagonal().sum() / M_imbalanced.sum()\n",
    "f_measure_imb =  compute_f_measures(M_imbalanced).mean()\n",
    "print(f\"The accuracy for our imbalanced dataset is {accuracy_imb:.2f}\")\n",
    "print(f\"The f-measure for our imbalanced dataset is {f_measure_imb:.2f}\")"
   ]
  },
  {
   "cell_type": "markdown",
   "metadata": {},
   "source": [
    "#### Scikit-Learn's Prediction Measurement Functions\n",
    "All the prediction metrics that we've discussed thus far are available in Scikit-Learn. They can be imported from the `sklearn.metrics` module. For instance, we can compute the confusion matrix by importing and running `confusion_matrix`.\n",
    "\n",
    "**Listing 20. 29. Computing the confusion matrix using Scikit-Learn**"
   ]
  },
  {
   "cell_type": "code",
   "execution_count": 30,
   "metadata": {},
   "outputs": [
    {
     "name": "stdout",
     "output_type": "stream",
     "text": [
      "[[38  0  0]\n",
      " [ 0 33  5]\n",
      " [ 0  4 33]]\n"
     ]
    }
   ],
   "source": [
    "from sklearn.metrics import confusion_matrix\n",
    "new_M = confusion_matrix(y_pred, y_test)\n",
    "assert np.array_equal(new_M, M)\n",
    "print(new_M)"
   ]
  },
  {
   "cell_type": "markdown",
   "metadata": {},
   "source": [
    "In that same manner, we can compute the accuracy by importing and running `accuracy_score`.\n",
    "\n",
    "**Listing 20. 30. Computing the accuracy using Scikit-Learn**"
   ]
  },
  {
   "cell_type": "code",
   "execution_count": 31,
   "metadata": {},
   "outputs": [],
   "source": [
    "from sklearn.metrics import accuracy_score\n",
    "assert accuracy_score(y_pred, y_test) == accuracy"
   ]
  },
  {
   "cell_type": "markdown",
   "metadata": {},
   "source": [
    "Also, the f-measure can be computed with the `f1_score` function. Passing `average=None` into the function will return a vector of individual f-measures for each class.\n",
    "\n",
    "**Listing 20. 31. Computing all f-measures using Scikit-Learn**"
   ]
  },
  {
   "cell_type": "code",
   "execution_count": 32,
   "metadata": {},
   "outputs": [
    {
     "name": "stdout",
     "output_type": "stream",
     "text": [
      "[1.   0.88 0.88]\n"
     ]
    }
   ],
   "source": [
    "from sklearn.metrics import f1_score\n",
    "new_f_measures = f1_score(y_pred, y_test, average=None)\n",
    "assert np.array_equal(new_f_measures, f_measures)\n",
    "print(new_f_measures)"
   ]
  },
  {
   "cell_type": "markdown",
   "metadata": {},
   "source": [
    "Meanwhile, passing `average='macro'` will return a single average score.\n",
    "\n",
    "**Listing 20. 32. Computing a unified f-measures using Scikit-Learn**"
   ]
  },
  {
   "cell_type": "code",
   "execution_count": 33,
   "metadata": {},
   "outputs": [],
   "source": [
    "new_f_measure = f1_score(y_pred, y_test, average='macro')\n",
    "assert new_f_measure == new_f_measures.mean()\n",
    "assert new_f_measure == avg_f"
   ]
  },
  {
   "cell_type": "markdown",
   "metadata": {},
   "source": [
    "## 20.3 Optimizing KNN Performance\n",
    "\n",
    "Currently, our `predict` function takes two input parameters: `K` and `weighted_voting`. These parameters must be set prior to training, and will influence the classifier's performance. Data scientists refer to such parameters as **hyperparameters**. Lets try to optimize our classifier's hyperparameters by iterating over all possible combinations of `K` and `weighted_voting`.\n",
    "\n",
    "**Listing 20. 33. Optimizing KNN hyperparameters**"
   ]
  },
  {
   "cell_type": "code",
   "execution_count": 34,
   "metadata": {},
   "outputs": [
    {
     "data": {
      "image/png": "[encoded data removed]",
      "text/plain": [
       "<Figure size 432x288 with 1 Axes>"
      ]
     },
     "metadata": {
      "needs_background": "light"
     },
     "output_type": "display_data"
    }
   ],
   "source": [
    "k_values = range(1, y_train.size)\n",
    "weighted_voting_bools = [True, False]\n",
    "f_scores = [[], []]\n",
    "\n",
    "params_to_f = {}\n",
    "for k in k_values:\n",
    "    for i, weighted_voting in enumerate(weighted_voting_bools):\n",
    "        y_pred = np.array([predict(i, K=k, \n",
    "                           weighted_voting=weighted_voting) \n",
    "                        for i in range(y_test.size)])\n",
    "        f_measure = f1_score(y_pred, y_test, average='macro')\n",
    "        f_scores[i].append(f_measure)\n",
    "        params_to_f[(k, weighted_voting)] = f_measure\n",
    "\n",
    "(best_k, best_weighted), best_f = max(params_to_f.items(), \n",
    "                                      key=lambda x: x[1])\n",
    "plt.plot(k_values, f_scores[0], label='Weighted Voting')\n",
    "plt.plot(k_values, f_scores[1], label='Unweighted Voting')\n",
    "plt.axvline(best_k, c='k')\n",
    "plt.xlabel('K')\n",
    "plt.ylabel('F-measure')\n",
    "plt.legend()\n",
    "plt.show()"
   ]
  },
  {
   "cell_type": "markdown",
   "metadata": {},
   "source": [
    "We've optimized performance exhaustively iterating over all the possible input parameters. This exhaustive approach is called a **parameter sweep**, or a **grid search**.\n",
    "\n",
    "## 20.4 Running Grid Search Using Scikit-Learn\n",
    "\n",
    "Scikit-Learn has a built-in model for running KNN classification. In order to utilize this model, we must import the `KNeighborsClassifier` class.\n",
    "\n",
    "**Listing 20. 34. Importing Scikit-Learn’s KNN class**"
   ]
  },
  {
   "cell_type": "code",
   "execution_count": 35,
   "metadata": {},
   "outputs": [],
   "source": [
    "from sklearn.neighbors import KNeighborsClassifier"
   ]
  },
  {
   "cell_type": "markdown",
   "metadata": {},
   "source": [
    "Initializing the class will create a KNN classifier object. Per common convention, we'll store this object in a `clf` variable.\n",
    "\n",
    "**Listing 20. 35. Initializing Scikit-Learn’s KNN classifier**"
   ]
  },
  {
   "cell_type": "code",
   "execution_count": 36,
   "metadata": {},
   "outputs": [],
   "source": [
    "clf = KNeighborsClassifier()"
   ]
  },
  {
   "cell_type": "markdown",
   "metadata": {},
   "source": [
    "The initialized `clf` object has preset specifications for K and weighted voting.\n",
    "\n",
    "**Listing 20. 36. Printing the preset KNN parameters**"
   ]
  },
  {
   "cell_type": "code",
   "execution_count": 37,
   "metadata": {},
   "outputs": [
    {
     "name": "stdout",
     "output_type": "stream",
     "text": [
      "K is set to 5.\n",
      "Weighted voting is set to 'uniform'.\n"
     ]
    }
   ],
   "source": [
    "K = clf.n_neighbors\n",
    "weighted_voting = clf.weights\n",
    "print(f\"K is set to {K}.\")\n",
    "print(f\"Weighted voting is set to '{weighted_voting}'.\")"
   ]
  },
  {
   "cell_type": "markdown",
   "metadata": {},
   "source": [
    "We can reinitialize `clf` with custom parameters.\n",
    "\n",
    "**Listing 20. 37. Setting Scikit-Learn’s KNN parameters**"
   ]
  },
  {
   "cell_type": "code",
   "execution_count": 38,
   "metadata": {},
   "outputs": [],
   "source": [
    "clf = KNeighborsClassifier(n_neighbors=4, weights='distance')\n",
    "assert clf.n_neighbors == 4\n",
    "assert clf.weights == 'distance'"
   ]
  },
  {
   "cell_type": "markdown",
   "metadata": {},
   "source": [
    "Now, we'll want to train our KNN model. Any Scikit-Learn `clf` classifier can be trained using the `fit` method.\n",
    "\n",
    "**Listing 20. 38. Training Scikit-Learn’s KNN classifier**"
   ]
  },
  {
   "cell_type": "code",
   "execution_count": 39,
   "metadata": {},
   "outputs": [
    {
     "data": {
      "text/plain": [
       "KNeighborsClassifier(n_neighbors=4, weights='distance')"
      ]
     },
     "execution_count": 39,
     "metadata": {},
     "output_type": "execute_result"
    }
   ],
   "source": [
    "clf.fit(X_train, y_train)"
   ]
  },
  {
   "cell_type": "markdown",
   "metadata": {},
   "source": [
    "After training, `clf` can predict the classes of any input `X_test` matrix (whose dimensions match `X_train`). Predictions are carried out with the `clf.predict` method.\n",
    "\n",
    "**Listing 20. 39. Predicting classes with a trained KNN classifier**"
   ]
  },
  {
   "cell_type": "code",
   "execution_count": 40,
   "metadata": {},
   "outputs": [
    {
     "name": "stdout",
     "output_type": "stream",
     "text": [
      "The predicted classes are:\n",
      "[2 1 0 2 0 2 0 1 1 1 2 1 1 1 1 0 1 1 0 0 2 1 0 0 2 0 0 1 1 0 2 1 0 2 2 1 0\n",
      " 2 1 1 2 0 2 0 0 1 2 2 1 2 1 2 1 1 1 1 1 1 1 2 1 0 2 1 1 1 1 2 0 0 2 1 0 0\n",
      " 1 0 2 1 0 1 2 1 0 2 2 2 2 0 0 2 2 0 2 0 2 2 0 0 2 0 0 0 1 2 2 0 0 0 1 1 0\n",
      " 0 1]\n",
      "\n",
      "The f-measure equals 0.95.\n"
     ]
    }
   ],
   "source": [
    "y_pred = clf.predict(X_test)\n",
    "f_measure = f1_score(y_pred, y_test, average='macro')\n",
    "print(f\"The predicted classes are:\\n{y_pred}\")\n",
    "print(f\"\\nThe f-measure equals {f_measure:.2f}.\")"
   ]
  },
  {
   "cell_type": "markdown",
   "metadata": {},
   "source": [
    "Additionally, `clf` allows to extract more nuanced prediction output. For instance, we can generate the fraction of the votes received by class for an inputted sample in `X_test`.\n",
    "\n",
    "**Listing 20. 40. Outputting vote ratios for each class**"
   ]
  },
  {
   "cell_type": "code",
   "execution_count": 41,
   "metadata": {},
   "outputs": [
    {
     "name": "stdout",
     "output_type": "stream",
     "text": [
      "[[0.         0.21419074 0.78580926]\n",
      " [0.         1.         0.        ]\n",
      " [1.         0.         0.        ]\n",
      " [0.         0.         1.        ]]\n"
     ]
    }
   ],
   "source": [
    "vote_ratios = clf.predict_proba(X_test)\n",
    "print(vote_ratios[:4])"
   ]
  },
  {
   "cell_type": "markdown",
   "metadata": {},
   "source": [
    "Now, lets turn our attention to running grid search across `KNeighborsClassifier`. First we'll need to specify a dictionary mapping between our hyperparameters and their value-ranges.\n",
    "\n",
    "**Listing 20. 41. Defining a hyperparameter dictionary**"
   ]
  },
  {
   "cell_type": "code",
   "execution_count": 42,
   "metadata": {},
   "outputs": [],
   "source": [
    "hyperparams = {'n_neighbors': range(1, 40),\n",
    "              'weights': ['uniform', 'distance']}"
   ]
  },
  {
   "cell_type": "markdown",
   "metadata": {},
   "source": [
    "Next, we'll need to import Scikit-Learn's `GridSearchCV` class, which we'll use to execute the grid search.\n",
    "\n",
    "**Listing 20. 42. Importing Scikit-Learn’s grid search class**"
   ]
  },
  {
   "cell_type": "code",
   "execution_count": 43,
   "metadata": {},
   "outputs": [],
   "source": [
    "from sklearn.model_selection import GridSearchCV"
   ]
  },
  {
   "cell_type": "markdown",
   "metadata": {},
   "source": [
    "Now, we'll initialize the `GridSearchCV` class by passing the hyperparameter dictionary.\n",
    "\n",
    "**Listing 20. 43. Initializing Scikit-Learn’s grid search class**"
   ]
  },
  {
   "cell_type": "code",
   "execution_count": 44,
   "metadata": {},
   "outputs": [],
   "source": [
    "clf_grid = GridSearchCV(KNeighborsClassifier(), hyperparams, \n",
    "                        scoring='f1_macro')"
   ]
  },
  {
   "cell_type": "markdown",
   "metadata": {},
   "source": [
    "Running `clf_grid.fit(X, y)` will carry out the grid search.\n",
    "\n",
    "**Listing 20. 44. Running a grid search using Scikit-Learn**"
   ]
  },
  {
   "cell_type": "code",
   "execution_count": 45,
   "metadata": {},
   "outputs": [
    {
     "data": {
      "text/plain": [
       "GridSearchCV(estimator=KNeighborsClassifier(),\n",
       "             param_grid={'n_neighbors': range(1, 40),\n",
       "                         'weights': ['uniform', 'distance']},\n",
       "             scoring='f1_macro')"
      ]
     },
     "execution_count": 45,
     "metadata": {},
     "output_type": "execute_result"
    }
   ],
   "source": [
    "clf_grid.fit(X, y)"
   ]
  },
  {
   "cell_type": "markdown",
   "metadata": {},
   "source": [
    "We've executed the grid-search. The optimized hyperparameters are stored within the `clf_grid.best_params_` attribute. Likewise, the f-measure associated with these parameters is stored within `clf_grid.best_score_`.\n",
    "\n",
    "**Listing 20. 45. Checking the optimized grid search results**"
   ]
  },
  {
   "cell_type": "code",
   "execution_count": 46,
   "metadata": {},
   "outputs": [
    {
     "name": "stdout",
     "output_type": "stream",
     "text": [
      "A maximum f-measure of 0.99 is achieved with the following hyperparameters:\n",
      "{'n_neighbors': 10, 'weights': 'distance'}\n"
     ]
    }
   ],
   "source": [
    "best_f = clf_grid.best_score_\n",
    "best_params = clf_grid.best_params_\n",
    "print(f\"A maximum f-measure of {best_f:.2f} is achieved with the \"\n",
    "      f\"following hyperparameters:\\n{best_params}\")"
   ]
  },
  {
   "cell_type": "markdown",
   "metadata": {},
   "source": [
    "The optimized KNN classifier is stored within the `clf_grid.best_estimator_` attribute.\n",
    "\n",
    "**Listing 20. 46. Accessing the optimized classifier**"
   ]
  },
  {
   "cell_type": "code",
   "execution_count": 47,
   "metadata": {},
   "outputs": [],
   "source": [
    "clf_best = clf_grid.best_estimator_\n",
    "assert clf_best.n_neighbors == best_params['n_neighbors']\n",
    "assert clf_best.weights == best_params['weights']"
   ]
  },
  {
   "cell_type": "markdown",
   "metadata": {},
   "source": [
    "By leveraging `clf_best`, we can carry out predictions on new data. Alternatively, we can carry-out predictions directly with our optimized `clf_grid` object, by running `clf_grid.predict`.\n",
    "\n",
    "**Listing 20. 47. Generating predictions with `clf_grid`**"
   ]
  },
  {
   "cell_type": "markdown",
   "metadata": {},
   "source": [
    "## 20.5 Limitations of the KNN Algorithm\n",
    "\n",
    "he biggest problem with KNN is its speed. The algorithm can be very slow to run when the training set is large.\n",
    "We'll illustrate this slow-down by increasing elements within our training set `(X, y)` by 2000-fold. Afterwards, we'll time the grid-search process for the expanded data. **The code will take approximately 15 mintues to run. Hence, it has been commented out.**\n",
    "\n",
    "**Listing 20. 48. Optimizing KNN on a large training set**"
   ]
  },
  {
   "cell_type": "code",
   "execution_count": 1,
   "metadata": {},
   "outputs": [
    {
     "data": {
      "text/plain": [
       "' \\nimport time\\nX_large = np.vstack([X for _ in range(2000)])\\ny_large = np.hstack([y for _ in range(2000)])\\nclf_grid = GridSearchCV(KNeighborsClassifier(), hyperparams, \\n                        scoring=\\'f1_macro\\')\\nstart_time = time.time()\\nclf_grid.fit(X_large, y_large)\\nrunning_time = (time.time() - start_time) / 60\\nprint(f\"The grid search took {running_time:.2f} minutes to run.\")\\n'"
      ]
     },
     "execution_count": 1,
     "metadata": {},
     "output_type": "execute_result"
    }
   ],
   "source": [
    "\"\"\" \n",
    "import time\n",
    "X_large = np.vstack([X for _ in range(2000)])\n",
    "y_large = np.hstack([y for _ in range(2000)])\n",
    "clf_grid = GridSearchCV(KNeighborsClassifier(), hyperparams, \n",
    "                        scoring='f1_macro')\n",
    "start_time = time.time()\n",
    "clf_grid.fit(X_large, y_large)\n",
    "running_time = (time.time() - start_time) / 60\n",
    "print(f\"The grid search took {running_time:.2f} minutes to run.\")\n",
    "\"\"\""
   ]
  },
  {
   "cell_type": "code",
   "execution_count": null,
   "metadata": {},
   "outputs": [],
   "source": []
  }
 ],
 "metadata": {
  "kernelspec": {
   "display_name": "Python 3",
   "language": "python",
   "name": "python3"
  },
  "language_info": {
   "codemirror_mode": {
    "name": "ipython",
    "version": 3
   },
   "file_extension": ".py",
   "mimetype": "text/x-python",
   "name": "python",
   "nbconvert_exporter": "python",
   "pygments_lexer": "ipython3",
   "version": "3.8.3"
  }
 },
 "nbformat": 4,
 "nbformat_minor": 2
}
